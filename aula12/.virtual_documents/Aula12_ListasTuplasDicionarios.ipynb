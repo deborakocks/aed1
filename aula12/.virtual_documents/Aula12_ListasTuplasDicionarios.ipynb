


# Versão da Linguagem Python
from platform import python_version
print('Versão da Linguagem Python Usada Neste Jupyter Notebook:', python_version())





# Criando uma lista
lista_1 = ["arroz, frango, tomate, leite"]


type(lista_1)


# Imprimindo a lista
print(lista_1)


# Criando outra lista
lista_2 = ["arroz", "frango", "tomate", "leite"]


type(lista_2)


# Imprimindo a lista
print(lista_2)


# Criando lista
lista_3 = [23, 100, "Cientista de Dados"]


type(lista_3)


# Imprimindo
print(lista_3)


# Atribuindo cada valor da lista a uma variável.
item1 = lista_3[0]
item2 = lista_3[1]
item3 = lista_3[2]


# Imprimindo as variáveis
print(item1, item2, item3)





lista_2


# Imprimindo um item da lista
lista_2[2]


# Atualizando um item da lista
lista_2[2] = "chocolate"


# Imprimindo lista alterada
lista_2





lista_2


# Não é possível deletar um item que não existe na lista. Vai gerar erro index out of range
del lista_2[4]   


# Deletando um item específico da lista
del lista_2[3]


# Imprimindo o item com a lista alterada
lista_2





# Criando uma lista de listas
listas = [ [1,2,3], [10,15,14], [10.1,8.7,2.3] ]


# Imprimindo a lista
print(listas)


# Atribuindo um item da lista a uma variável
a = listas[0]


listas [0][1]


a


b = a[0]


b


list1 = listas[1]


list1


valor_1_0 = list1[0]


valor_1_0


valor_1_2 = list1[2]


valor_1_2


list2 = listas[2]


list2


valor_2_0 = list2[0]


valor_2_0





# Criando uma lista aninhada (lista de listas - Matrizes)
listas = [[1,2,3], [10,15,14], [10.1,8.7,2.3]]


listas


# Atribuindo à variável a o primeiro valor da primeira lista
a = listas[0][0]


a


b = listas[1][2]


b


c = listas[0][2] + 10


c


d = 10


d


e = d * listas[2][0]


e





lista_s1 = [34, 32, 56]


lista_s1


lista_s2 = [21, 90, 51]


lista_s2


# Concatenando listas
lista_total = lista_s1 + lista_s2


lista_total





# Criando uma lista
lista_teste_op = [100, 2, -5, 3.4]


# Verificando se o valor 10 pertence a lista
print(10 in lista_teste_op)


# Verificando se o valor 100 pertence a lista
print(100 in lista_teste_op)








# Criando uma lista
lista_numeros = [10, 20, 50, -3.4]


# Função len() retorna o comprimento da lista
len(lista_numeros)


# Função max() retorna o valor máximo da lista
max(lista_numeros)


# Função min() retorna o valor mínimo da lista
min(lista_numeros)


# Criando uma lista
lista_formacoes_dsa = ["Analista de Dados", "Cientista de Dados", "Engenheiro de Dados"]


lista_formacoes_dsa


# Adicionando um item à lista
lista_formacoes_dsa.append("Engenheiro de IA")


lista_formacoes_dsa


lista_formacoes_dsa.append("Engenheiro de IA")


lista_formacoes_dsa


lista_formacoes_dsa.count("Engenheiro de IA")


# Criando uma lista vazia
a = []


print(a)


type(a)


a.append(10)


a


a.append(50)


a


old_list = [1,2,5,10]


new_list = []


# Copiando os itens de uma lista para outra
for item in old_list:
    new_list.append(item)


new_list


cidades = ['Recife', 'Manaus', 'Salvador']
cidades.extend(['Fortaleza', 'Palmas'])
print (cidades)


cidades.index('Salvador')





cidades.index('Rio de Janeiro')


cidades


cidades.insert(2, 110)


cidades


# Remove um item da lista
cidades.remove(110)


cidades


# Reverte a lista
cidades.reverse()


# Imprime a lista
cidades


x = [3, 4, 2, 1]


x


# Ordena a lista
x.sort()


x





# Imprimindo a tupla
tupla1


# Criando uma tupla
tupla1 = ("Geografia", 23, "Elefantes", 9.8, 'Python')


# Tuplas não suportam append()
tupla1.append("Chocolate")   


# Tuplas não suportam delete de um item específico
del tupla1["Elefantes"]  


# Tuplas podem ter um único item
tupla1 = ("Chocolate")


tupla1


tupla1 = ("Geografia", 23, "Elefantes", 9.8, 'Python')


tupla1[0]


# Verificando o comprimento da tupla
len(tupla1)


# Slicing, da mesma forma que se faz com listas
tupla1[1:]


tupla1.index('Elefantes')


# Tuplas não suportam atribuição de item
tupla1[1] = 21


# Deletando a tupla
del tupla1


tupla1


# Criando uma tupla
t2 = ('A', 'B', 'C')


t2


# Tuplas não suportam atribuição de item
t2[0] = 'D'


# Usando a função list() para converter uma tupla para lista
lista_t2 = list(t2)


type(t2)


type(lista_t2)


lista_t2


lista_t2.append('D')


# Usando a função tuple() para converter uma lista para tupla
t2 = tuple(lista_t2)


t2














# Isso é uma lista
estudantes_lst = ["Pedro", 24, "Ana", 22, "Ronaldo", 26, "Janaina", 25]   


estudantes_lst


type(estudantes_lst)


# Isso é um dicionário
estudantes_dict = {"Pedro":24, "Ana":22, "Ronaldo":26, "Janaina":25}


estudantes_dict 


type(estudantes_dict)


estudantes_dict["Pedro"]


estudantes_dict["Marcelo"] = 23


estudantes_dict["Marcelo"]


estudantes_dict 


estudantes_dict.clear()


estudantes_dict


del estudantes_dict


estudantes_dict


estudantes = {"Pedro":24, "Ana":22, "Ronaldo":26, "Janaina":25}


estudantes


len(estudantes)


estudantes.keys()


estudantes.values()


estudantes.items()


estudantes2 = {"Camila":27, "Adriana":28, "Roberta":26}


estudantes2


estudantes.update(estudantes2)


estudantes


dic1 = {}


dic1


dic1["chave_um"] = 2


print(dic1)


dic1[10] = 5


dic1


dic1[9.13] = "Python"


dic1


dic1["teste"] = 5


dic1


dict1 = {}


dict1


dict1["teste"] = 10


dict1["key"] = "teste"


# Atenção, pois chave e valor podem ser iguais, mas representam coisas diferentes.
dict1


dict2 = {}


dict2["key1"] = "Data Science"


dict2["key2"] = 10


dict2["key3"] = 100


dict2


a = dict2["key1"]


b = dict2["key2"]


c = dict2["key3"]


a, b, c


# Dicionário de listas
dict3 = {'chave1':1230, 'chave2':[22,453,73.4], 'chave3':['picanha', 'fraldinha', 'alcatra']}


dict3


dict3['chave2']


# Acessando um item da lista, dentro do dicionário
dict3['chave3'][0].upper()


# Operações com itens da lista, dentro do dicionário
var1 = dict3['chave2'][0] - 2


var1


# Duas operações no mesmo comando, para atualizar um item dentro da lista
dict3['chave2'][0] -= 2


dict3





# Criando dicionários aninhados
dict_aninhado = {'key1':{'key2_aninhada':{'key3_aninhada':'Dict aninhado em Python'}}}


dict_aninhado


dict_aninhado['key1']['key2_aninhada']['key3_aninhada']





























# Exemplo de geração de números aleatórios (randômicos) entre 1 e 60
from random import randint
a = randint(1, 60)
print(a)


# Exemplo de geração de 10 jogadas de dados
from random import randint
# Gerando 10 jogadas
for i in range (0,10):
    lado = randint(1, 6)
    print(lado, end=" ")


































































