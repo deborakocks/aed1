{
  "cells": [
    {
      "cell_type": "markdown",
      "metadata": {
        "id": "CHJ5f9HUHqHP"
      },
      "source": [
        "## <font color='blue'>Aula 12 - Algoritmos e Estrutura de Dados 1 </font>\n",
        "## <font color='blue'>Estruturas de Dados (Listas / Tuplas / Dicionários)</font>"
      ]
    },
    {
      "cell_type": "code",
      "execution_count": 1,
      "metadata": {
        "colab": {
          "base_uri": "https://localhost:8080/"
        },
        "id": "nUCMJ9-ZHqHS",
        "outputId": "5450e3de-de94-4d24-8405-e84187dbaa2e"
      },
      "outputs": [
        {
          "output_type": "stream",
          "name": "stdout",
          "text": [
            "Versão da Linguagem Python Usada Neste Jupyter Notebook: 3.10.12\n"
          ]
        }
      ],
      "source": [
        "# Versão da Linguagem Python\n",
        "from platform import python_version\n",
        "print('Versão da Linguagem Python Usada Neste Jupyter Notebook:', python_version())"
      ]
    },
    {
      "cell_type": "markdown",
      "metadata": {
        "id": "9UIImrv_HqHW"
      },
      "source": [
        "## <font color='blue'>LISTAS...</font>\n",
        "---\n",
        "### Trabalhando com Listas"
      ]
    },
    {
      "cell_type": "code",
      "execution_count": 2,
      "metadata": {
        "id": "df6w6uSHHqHW"
      },
      "outputs": [],
      "source": [
        "# Criando uma lista\n",
        "lista_1 = [\"arroz, frango, tomate, leite\"]"
      ]
    },
    {
      "cell_type": "code",
      "execution_count": null,
      "metadata": {
        "id": "vBL0XDnTHqHX",
        "outputId": "2705b9a2-7f37-4c85-e047-e10796a1ed6f"
      },
      "outputs": [
        {
          "data": {
            "text/plain": [
              "list"
            ]
          },
          "execution_count": 2,
          "metadata": {},
          "output_type": "execute_result"
        }
      ],
      "source": [
        "type(lista_1)"
      ]
    },
    {
      "cell_type": "code",
      "execution_count": null,
      "metadata": {
        "id": "_cS8BluFHqHY",
        "outputId": "994d7578-3ffc-49ce-e814-07757663c49d"
      },
      "outputs": [
        {
          "name": "stdout",
          "output_type": "stream",
          "text": [
            "['arroz, frango, tomate, leite']\n"
          ]
        }
      ],
      "source": [
        "# Imprimindo a lista\n",
        "print(lista_1)"
      ]
    },
    {
      "cell_type": "code",
      "execution_count": null,
      "metadata": {
        "id": "Xvf45plvHqHZ"
      },
      "outputs": [],
      "source": [
        "# Criando outra lista\n",
        "lista_2 = [\"arroz\", \"frango\", \"tomate\", \"leite\"]"
      ]
    },
    {
      "cell_type": "code",
      "execution_count": null,
      "metadata": {
        "id": "77XLYcqwHqHZ",
        "outputId": "088776df-5c08-4d39-9c3a-f93c268222f5"
      },
      "outputs": [
        {
          "data": {
            "text/plain": [
              "list"
            ]
          },
          "execution_count": 5,
          "metadata": {},
          "output_type": "execute_result"
        }
      ],
      "source": [
        "type(lista_2)"
      ]
    },
    {
      "cell_type": "code",
      "execution_count": null,
      "metadata": {
        "id": "08EgP4ISHqHa",
        "outputId": "29245367-629b-4496-a373-2097412573e7"
      },
      "outputs": [
        {
          "name": "stdout",
          "output_type": "stream",
          "text": [
            "['arroz', 'frango', 'tomate', 'leite']\n"
          ]
        }
      ],
      "source": [
        "# Imprimindo a lista\n",
        "print(lista_2)"
      ]
    },
    {
      "cell_type": "code",
      "execution_count": null,
      "metadata": {
        "id": "GtTq5LoLHqHa"
      },
      "outputs": [],
      "source": [
        "# Criando lista\n",
        "lista_3 = [23, 100, \"Cientista de Dados\"]"
      ]
    },
    {
      "cell_type": "code",
      "execution_count": null,
      "metadata": {
        "id": "xb2wTWlWHqHb",
        "outputId": "ff18826c-e89f-4636-966f-10646187d487"
      },
      "outputs": [
        {
          "data": {
            "text/plain": [
              "list"
            ]
          },
          "execution_count": 8,
          "metadata": {},
          "output_type": "execute_result"
        }
      ],
      "source": [
        "type(lista_3)"
      ]
    },
    {
      "cell_type": "code",
      "execution_count": null,
      "metadata": {
        "id": "KKAGdWsqHqHc",
        "outputId": "d9d3fdb4-2e18-47f6-a291-96f67089558e"
      },
      "outputs": [
        {
          "name": "stdout",
          "output_type": "stream",
          "text": [
            "[23, 100, 'Cientista de Dados']\n"
          ]
        }
      ],
      "source": [
        "# Imprimindo\n",
        "print(lista_3)"
      ]
    },
    {
      "cell_type": "code",
      "execution_count": null,
      "metadata": {
        "id": "Snx2Jq_-HqHc"
      },
      "outputs": [],
      "source": [
        "# Atribuindo cada valor da lista a uma variável.\n",
        "item1 = lista_3[0]\n",
        "item2 = lista_3[1]\n",
        "item3 = lista_3[2]"
      ]
    },
    {
      "cell_type": "code",
      "execution_count": null,
      "metadata": {
        "id": "c-pTTbqsHqHd",
        "outputId": "9a429241-a847-4377-e626-6c28f85d3291"
      },
      "outputs": [
        {
          "name": "stdout",
          "output_type": "stream",
          "text": [
            "23 100 Cientista de Dados\n"
          ]
        }
      ],
      "source": [
        "# Imprimindo as variáveis\n",
        "print(item1, item2, item3)"
      ]
    },
    {
      "cell_type": "code",
      "execution_count": null,
      "metadata": {
        "id": "-aGDj8GrHqHe"
      },
      "outputs": [],
      "source": [
        "alunos = ['ana', 'pedro', 'maria']\n",
        "notas = [9, 3.5, 6]"
      ]
    },
    {
      "cell_type": "code",
      "execution_count": null,
      "metadata": {
        "id": "KnofW4kjHqHe",
        "outputId": "459bb696-9150-4e51-9407-6bbd46284201"
      },
      "outputs": [
        {
          "name": "stdout",
          "output_type": "stream",
          "text": [
            "O(a) estudante ana teve nota 9!\n",
            "O(a) estudante pedro teve nota 3.5!\n",
            "O(a) estudante maria teve nota 6!\n"
          ]
        }
      ],
      "source": [
        "for i in range(len(alunos)):\n",
        "    print(f\"O(a) estudante {alunos[i]} teve nota {notas[i]}!\")"
      ]
    },
    {
      "cell_type": "markdown",
      "metadata": {
        "id": "7xProvsjHqHf"
      },
      "source": [
        "#### Atualizando Um Item da Lista"
      ]
    },
    {
      "cell_type": "code",
      "execution_count": null,
      "metadata": {
        "id": "hp8OgQgoHqHf",
        "outputId": "f710b561-06ab-48bc-ded1-75828127239b"
      },
      "outputs": [
        {
          "data": {
            "text/plain": [
              "['arroz', 'frango', 'tomate', 'leite']"
            ]
          },
          "execution_count": 14,
          "metadata": {},
          "output_type": "execute_result"
        }
      ],
      "source": [
        "lista_2"
      ]
    },
    {
      "cell_type": "code",
      "execution_count": null,
      "metadata": {
        "id": "7JVT2aqbHqHg",
        "outputId": "c3e99843-803b-48ae-a46e-f42b7970691b"
      },
      "outputs": [
        {
          "data": {
            "text/plain": [
              "'tomate'"
            ]
          },
          "execution_count": 15,
          "metadata": {},
          "output_type": "execute_result"
        }
      ],
      "source": [
        "# Imprimindo um item da lista\n",
        "lista_2[2]"
      ]
    },
    {
      "cell_type": "code",
      "execution_count": null,
      "metadata": {
        "id": "zOjuWkIvHqHg"
      },
      "outputs": [],
      "source": [
        "# Atualizando um item da lista\n",
        "lista_2[2] = \"chocolate\""
      ]
    },
    {
      "cell_type": "code",
      "execution_count": null,
      "metadata": {
        "id": "h-aFzRBFHqHh",
        "outputId": "b5568da7-b1e7-4315-c53c-97f9e1f6c469"
      },
      "outputs": [
        {
          "data": {
            "text/plain": [
              "['arroz', 'frango', 'chocolate', 'leite']"
            ]
          },
          "execution_count": 17,
          "metadata": {},
          "output_type": "execute_result"
        }
      ],
      "source": [
        "# Imprimindo lista alterada\n",
        "lista_2"
      ]
    },
    {
      "cell_type": "markdown",
      "metadata": {
        "id": "zwphEIP5HqHh"
      },
      "source": [
        "#### Deletando Um Item da Lista"
      ]
    },
    {
      "cell_type": "code",
      "execution_count": null,
      "metadata": {
        "id": "rasDpmxpHqHh",
        "outputId": "4b23873e-606b-4b0e-ffca-2840e3b7d4d7"
      },
      "outputs": [
        {
          "data": {
            "text/plain": [
              "['arroz', 'frango', 'chocolate', 'leite']"
            ]
          },
          "execution_count": 18,
          "metadata": {},
          "output_type": "execute_result"
        }
      ],
      "source": [
        "lista_2"
      ]
    },
    {
      "cell_type": "code",
      "execution_count": null,
      "metadata": {
        "id": "sp1vE9dnHqHi",
        "outputId": "5763fa49-6e42-4382-a0b4-786f35af6fdb"
      },
      "outputs": [
        {
          "ename": "IndexError",
          "evalue": "list assignment index out of range",
          "output_type": "error",
          "traceback": [
            "\u001b[1;31m---------------------------------------------------------------------------\u001b[0m",
            "\u001b[1;31mIndexError\u001b[0m                                Traceback (most recent call last)",
            "Cell \u001b[1;32mIn[19], line 2\u001b[0m\n\u001b[0;32m      1\u001b[0m \u001b[38;5;66;03m# Não é possível deletar um item que não existe na lista. Vai gerar erro index out of range\u001b[39;00m\n\u001b[1;32m----> 2\u001b[0m \u001b[38;5;28;01mdel\u001b[39;00m lista_2[\u001b[38;5;241m4\u001b[39m]\n",
            "\u001b[1;31mIndexError\u001b[0m: list assignment index out of range"
          ]
        }
      ],
      "source": [
        "# Não é possível deletar um item que não existe na lista. Vai gerar erro index out of range\n",
        "del lista_2[4]"
      ]
    },
    {
      "cell_type": "code",
      "execution_count": null,
      "metadata": {
        "id": "nDjcF3B4HqHi"
      },
      "outputs": [],
      "source": [
        "# Deletando um item específico da lista\n",
        "del lista_2[3]"
      ]
    },
    {
      "cell_type": "code",
      "execution_count": null,
      "metadata": {
        "id": "uFN7iBOQHqHi",
        "outputId": "2324e25a-9cb4-439e-90d0-fd06437f3b5f"
      },
      "outputs": [
        {
          "data": {
            "text/plain": [
              "['arroz', 'frango', 'chocolate']"
            ]
          },
          "execution_count": 21,
          "metadata": {},
          "output_type": "execute_result"
        }
      ],
      "source": [
        "# Imprimindo o item com a lista alterada\n",
        "lista_2"
      ]
    },
    {
      "cell_type": "markdown",
      "metadata": {
        "id": "gldufLMcHqHj"
      },
      "source": [
        "#### Listas de Listas (Listas Aninhadas)\n",
        "\n",
        "Listas de listas são matrizes em Python."
      ]
    },
    {
      "cell_type": "code",
      "execution_count": null,
      "metadata": {
        "id": "J13HgW7XHqHj"
      },
      "outputs": [],
      "source": [
        "# Criando uma lista de listas\n",
        "listas = [ [1,2,3], [10,15,14], [10.1,8.7,2.3] ]"
      ]
    },
    {
      "cell_type": "code",
      "execution_count": null,
      "metadata": {
        "id": "mIERNcBeHqHj",
        "outputId": "7a32cc58-ad06-42ab-98de-b7e2e2827a89"
      },
      "outputs": [
        {
          "name": "stdout",
          "output_type": "stream",
          "text": [
            "[[1, 2, 3], [10, 15, 14], [10.1, 8.7, 2.3]]\n"
          ]
        }
      ],
      "source": [
        "# Imprimindo a lista\n",
        "print(listas)"
      ]
    },
    {
      "cell_type": "code",
      "execution_count": null,
      "metadata": {
        "id": "UUFhqR4JHqHk"
      },
      "outputs": [],
      "source": [
        "# Atribuindo um item da lista a uma variável\n",
        "a = listas[0]"
      ]
    },
    {
      "cell_type": "code",
      "execution_count": null,
      "metadata": {
        "id": "GWVBXw8eHqHk",
        "outputId": "de35658f-801b-4e28-fa9d-edfebf2d4391"
      },
      "outputs": [
        {
          "data": {
            "text/plain": [
              "2"
            ]
          },
          "execution_count": 27,
          "metadata": {},
          "output_type": "execute_result"
        }
      ],
      "source": [
        "listas[0][1]"
      ]
    },
    {
      "cell_type": "code",
      "execution_count": null,
      "metadata": {
        "id": "339YzVsEHqHk",
        "outputId": "83f4a9a2-97c2-4a1d-9c15-e0bde8b2cd05"
      },
      "outputs": [
        {
          "data": {
            "text/plain": [
              "[1, 2, 3]"
            ]
          },
          "execution_count": 25,
          "metadata": {},
          "output_type": "execute_result"
        }
      ],
      "source": [
        "a"
      ]
    },
    {
      "cell_type": "code",
      "execution_count": null,
      "metadata": {
        "id": "uR8Yk7OVHqHm"
      },
      "outputs": [],
      "source": [
        "b = a[0]"
      ]
    },
    {
      "cell_type": "code",
      "execution_count": null,
      "metadata": {
        "id": "34KYPu6EHqHm",
        "outputId": "e018bac0-3408-4523-8697-9d9c8d72a95a"
      },
      "outputs": [
        {
          "data": {
            "text/plain": [
              "1"
            ]
          },
          "execution_count": 29,
          "metadata": {},
          "output_type": "execute_result"
        }
      ],
      "source": [
        "b"
      ]
    },
    {
      "cell_type": "code",
      "execution_count": null,
      "metadata": {
        "id": "llHbMpIUHqHm"
      },
      "outputs": [],
      "source": [
        "list1 = listas[1]"
      ]
    },
    {
      "cell_type": "code",
      "execution_count": null,
      "metadata": {
        "id": "4Xpp4vFLHqHn",
        "outputId": "83724f3b-9c66-4dfc-8b9c-7e111694fe3d"
      },
      "outputs": [
        {
          "data": {
            "text/plain": [
              "[10, 15, 14]"
            ]
          },
          "execution_count": 31,
          "metadata": {},
          "output_type": "execute_result"
        }
      ],
      "source": [
        "list1"
      ]
    },
    {
      "cell_type": "code",
      "execution_count": null,
      "metadata": {
        "id": "PZUxB3UsHqHn"
      },
      "outputs": [],
      "source": [
        "valor_1_0 = list1[0]"
      ]
    },
    {
      "cell_type": "code",
      "execution_count": null,
      "metadata": {
        "id": "RIdsztrJHqHo",
        "outputId": "fd543920-ff3d-449f-fa2a-574cd5dfff91"
      },
      "outputs": [
        {
          "data": {
            "text/plain": [
              "10"
            ]
          },
          "execution_count": 33,
          "metadata": {},
          "output_type": "execute_result"
        }
      ],
      "source": [
        "valor_1_0"
      ]
    },
    {
      "cell_type": "code",
      "execution_count": null,
      "metadata": {
        "id": "Lj9MkBbtHqHo"
      },
      "outputs": [],
      "source": [
        "valor_1_2 = list1[2]"
      ]
    },
    {
      "cell_type": "code",
      "execution_count": null,
      "metadata": {
        "id": "avzcSppJHqH1",
        "outputId": "2568fbb1-dcbc-42df-9eb7-8ce6a04ecd04"
      },
      "outputs": [
        {
          "data": {
            "text/plain": [
              "14"
            ]
          },
          "execution_count": 35,
          "metadata": {},
          "output_type": "execute_result"
        }
      ],
      "source": [
        "valor_1_2"
      ]
    },
    {
      "cell_type": "code",
      "execution_count": null,
      "metadata": {
        "id": "5IM9byAZHqH1"
      },
      "outputs": [],
      "source": [
        "list2 = listas[2]"
      ]
    },
    {
      "cell_type": "code",
      "execution_count": null,
      "metadata": {
        "id": "rjalhJ-VHqH2",
        "outputId": "8610e468-8b10-454c-f341-ff58626bf846"
      },
      "outputs": [
        {
          "data": {
            "text/plain": [
              "[10.1, 8.7, 2.3]"
            ]
          },
          "execution_count": 37,
          "metadata": {},
          "output_type": "execute_result"
        }
      ],
      "source": [
        "list2"
      ]
    },
    {
      "cell_type": "code",
      "execution_count": null,
      "metadata": {
        "id": "esqTd_knHqH2"
      },
      "outputs": [],
      "source": [
        "valor_2_0 = list2[0]"
      ]
    },
    {
      "cell_type": "code",
      "execution_count": null,
      "metadata": {
        "id": "1pNmJckrHqH3",
        "outputId": "0aa98cef-8205-4849-8f70-9852055462ed"
      },
      "outputs": [
        {
          "data": {
            "text/plain": [
              "10.1"
            ]
          },
          "execution_count": 39,
          "metadata": {},
          "output_type": "execute_result"
        }
      ],
      "source": [
        "valor_2_0"
      ]
    },
    {
      "cell_type": "markdown",
      "metadata": {
        "id": "cAdKeUpYHqH3"
      },
      "source": [
        "#### Operações com Listas"
      ]
    },
    {
      "cell_type": "code",
      "execution_count": null,
      "metadata": {
        "id": "QS9kDk7kHqH3"
      },
      "outputs": [],
      "source": [
        "# Criando uma lista aninhada (lista de listas - Matrizes)\n",
        "listas = [[1,2,3], [10,15,14], [10.1,8.7,2.3]]"
      ]
    },
    {
      "cell_type": "code",
      "execution_count": null,
      "metadata": {
        "id": "-B5nfqwZHqH4",
        "outputId": "0f146886-09ab-4601-8407-23922aad2623"
      },
      "outputs": [
        {
          "data": {
            "text/plain": [
              "[[1, 2, 3], [10, 15, 14], [10.1, 8.7, 2.3]]"
            ]
          },
          "execution_count": 41,
          "metadata": {},
          "output_type": "execute_result"
        }
      ],
      "source": [
        "listas"
      ]
    },
    {
      "cell_type": "code",
      "execution_count": null,
      "metadata": {
        "id": "HfRg_mWZHqH4"
      },
      "outputs": [],
      "source": [
        "# Atribuindo à variável a o primeiro valor da primeira lista\n",
        "a = listas[0][0]"
      ]
    },
    {
      "cell_type": "code",
      "execution_count": null,
      "metadata": {
        "id": "9wfnmyKPHqH4",
        "outputId": "14d2a2ce-c766-437d-bebb-88285d73ca30"
      },
      "outputs": [
        {
          "data": {
            "text/plain": [
              "1"
            ]
          },
          "execution_count": 43,
          "metadata": {},
          "output_type": "execute_result"
        }
      ],
      "source": [
        "a"
      ]
    },
    {
      "cell_type": "code",
      "execution_count": null,
      "metadata": {
        "id": "hBadfZCJHqH5"
      },
      "outputs": [],
      "source": [
        "b = listas[1][2]"
      ]
    },
    {
      "cell_type": "code",
      "execution_count": null,
      "metadata": {
        "id": "LKVoBxweHqH5",
        "outputId": "b5f613ed-2807-45a7-c60c-2253a5edee10"
      },
      "outputs": [
        {
          "data": {
            "text/plain": [
              "14"
            ]
          },
          "execution_count": 46,
          "metadata": {},
          "output_type": "execute_result"
        }
      ],
      "source": [
        "b"
      ]
    },
    {
      "cell_type": "code",
      "execution_count": null,
      "metadata": {
        "id": "w1psGJfwHqH5"
      },
      "outputs": [],
      "source": [
        "c = listas[0][2] + 10"
      ]
    },
    {
      "cell_type": "code",
      "execution_count": null,
      "metadata": {
        "id": "bYHBK7-WHqH6",
        "outputId": "9fea7d0c-adf2-4097-c7dd-d7c3005d9101"
      },
      "outputs": [
        {
          "data": {
            "text/plain": [
              "13"
            ]
          },
          "execution_count": 48,
          "metadata": {},
          "output_type": "execute_result"
        }
      ],
      "source": [
        "c"
      ]
    },
    {
      "cell_type": "code",
      "execution_count": null,
      "metadata": {
        "id": "R-m7StuSHqH7"
      },
      "outputs": [],
      "source": [
        "d = 10"
      ]
    },
    {
      "cell_type": "code",
      "execution_count": null,
      "metadata": {
        "id": "yCT16GF1HqH7",
        "outputId": "0f7b8262-71cb-4220-fd48-4d0b169a26e7"
      },
      "outputs": [
        {
          "data": {
            "text/plain": [
              "10"
            ]
          },
          "execution_count": 50,
          "metadata": {},
          "output_type": "execute_result"
        }
      ],
      "source": [
        "d"
      ]
    },
    {
      "cell_type": "code",
      "execution_count": null,
      "metadata": {
        "id": "hQp2jfJhHqH8"
      },
      "outputs": [],
      "source": [
        "e = d * listas[2][0]"
      ]
    },
    {
      "cell_type": "code",
      "execution_count": null,
      "metadata": {
        "id": "EM9UykJuHqH9",
        "outputId": "a2a9e85c-3aff-4f0c-b2c5-2956432e1939"
      },
      "outputs": [
        {
          "data": {
            "text/plain": [
              "101.0"
            ]
          },
          "execution_count": 52,
          "metadata": {},
          "output_type": "execute_result"
        }
      ],
      "source": [
        "e"
      ]
    },
    {
      "cell_type": "markdown",
      "metadata": {
        "id": "OWlVeexzHqH9"
      },
      "source": [
        "#### Concatenando Listas"
      ]
    },
    {
      "cell_type": "code",
      "execution_count": null,
      "metadata": {
        "id": "Os5MZ-DqHqH9"
      },
      "outputs": [],
      "source": [
        "lista_s1 = [34, 32, 56]"
      ]
    },
    {
      "cell_type": "code",
      "execution_count": null,
      "metadata": {
        "id": "LINOxQWVHqH-",
        "outputId": "44f23a62-bbf0-44f9-8258-26567fbf42cc"
      },
      "outputs": [
        {
          "data": {
            "text/plain": [
              "[34, 32, 56]"
            ]
          },
          "execution_count": 55,
          "metadata": {},
          "output_type": "execute_result"
        }
      ],
      "source": [
        "lista_s1"
      ]
    },
    {
      "cell_type": "code",
      "execution_count": null,
      "metadata": {
        "id": "JTwv0NRwHqH-"
      },
      "outputs": [],
      "source": [
        "lista_s2 = [21, 90, 51]"
      ]
    },
    {
      "cell_type": "code",
      "execution_count": null,
      "metadata": {
        "id": "sV8Fun_3HqH-",
        "outputId": "27c1e688-86ad-4a6a-8b99-84a9e29e5531"
      },
      "outputs": [
        {
          "data": {
            "text/plain": [
              "[21, 90, 51]"
            ]
          },
          "execution_count": 57,
          "metadata": {},
          "output_type": "execute_result"
        }
      ],
      "source": [
        "lista_s2"
      ]
    },
    {
      "cell_type": "code",
      "execution_count": null,
      "metadata": {
        "id": "OmHq-2kxHqH_"
      },
      "outputs": [],
      "source": [
        "# Concatenando listas\n",
        "lista_total = lista_s1 + lista_s2"
      ]
    },
    {
      "cell_type": "code",
      "execution_count": null,
      "metadata": {
        "id": "YlO75H_SHqH_",
        "outputId": "857d6c62-e75b-424d-f9ed-87e3bd30a678"
      },
      "outputs": [
        {
          "data": {
            "text/plain": [
              "[34, 32, 56, 21, 90, 51]"
            ]
          },
          "execution_count": 59,
          "metadata": {},
          "output_type": "execute_result"
        }
      ],
      "source": [
        "lista_total"
      ]
    },
    {
      "cell_type": "markdown",
      "metadata": {
        "id": "8L8MekGpHqIA"
      },
      "source": [
        "### Operador in"
      ]
    },
    {
      "cell_type": "code",
      "execution_count": null,
      "metadata": {
        "id": "P8napQ2eHqIA"
      },
      "outputs": [],
      "source": [
        "# Criando uma lista\n",
        "lista_teste_op = [100, 2, -5, 3.4]"
      ]
    },
    {
      "cell_type": "code",
      "execution_count": null,
      "metadata": {
        "id": "HZoB1WXpHqIA",
        "outputId": "659d0abb-d43a-4f48-d185-8fbae860d963"
      },
      "outputs": [
        {
          "name": "stdout",
          "output_type": "stream",
          "text": [
            "False\n"
          ]
        }
      ],
      "source": [
        "# Verificando se o valor 10 pertence a lista\n",
        "print(10 in lista_teste_op)"
      ]
    },
    {
      "cell_type": "code",
      "execution_count": null,
      "metadata": {
        "id": "cYfD4CAHHqIB",
        "outputId": "c155c891-460d-411c-adb3-3a6870a6cc63"
      },
      "outputs": [
        {
          "name": "stdout",
          "output_type": "stream",
          "text": [
            "True\n"
          ]
        }
      ],
      "source": [
        "# Verificando se o valor 100 pertence a lista\n",
        "print(100 in lista_teste_op)"
      ]
    },
    {
      "cell_type": "markdown",
      "metadata": {
        "id": "Y5XkiCrEHqIB"
      },
      "source": [
        "### Funções Built-in"
      ]
    },
    {
      "cell_type": "code",
      "execution_count": null,
      "metadata": {
        "id": "5vaQQpmrHqIB"
      },
      "outputs": [],
      "source": [
        "lista_s1."
      ]
    },
    {
      "cell_type": "markdown",
      "metadata": {
        "id": "fdHEvwtVHqIC"
      },
      "source": [
        "![Listas](listas.jpg)"
      ]
    },
    {
      "cell_type": "code",
      "execution_count": null,
      "metadata": {
        "id": "3gBxUVX_HqIC"
      },
      "outputs": [],
      "source": [
        "# Criando uma lista\n",
        "lista_numeros = [10, 20, 50, -3.4]"
      ]
    },
    {
      "cell_type": "code",
      "execution_count": null,
      "metadata": {
        "id": "5hEnM3cPHqIC",
        "outputId": "b6787425-1075-4813-ef57-4f7291dee4b5"
      },
      "outputs": [
        {
          "data": {
            "text/plain": [
              "4"
            ]
          },
          "execution_count": 64,
          "metadata": {},
          "output_type": "execute_result"
        }
      ],
      "source": [
        "# Função len() retorna o comprimento da lista\n",
        "len(lista_numeros)"
      ]
    },
    {
      "cell_type": "code",
      "execution_count": null,
      "metadata": {
        "id": "IkcjRrgrHqID",
        "outputId": "28e67753-8e76-4589-d15c-a67f660612be"
      },
      "outputs": [
        {
          "data": {
            "text/plain": [
              "50"
            ]
          },
          "execution_count": 65,
          "metadata": {},
          "output_type": "execute_result"
        }
      ],
      "source": [
        "# Função max() retorna o valor máximo da lista\n",
        "max(lista_numeros)"
      ]
    },
    {
      "cell_type": "code",
      "execution_count": null,
      "metadata": {
        "id": "08sjQbkTHqID",
        "outputId": "cc58af67-0544-4674-8749-0280f0d78968"
      },
      "outputs": [
        {
          "data": {
            "text/plain": [
              "-3.4"
            ]
          },
          "execution_count": 66,
          "metadata": {},
          "output_type": "execute_result"
        }
      ],
      "source": [
        "# Função min() retorna o valor mínimo da lista\n",
        "min(lista_numeros)"
      ]
    },
    {
      "cell_type": "code",
      "execution_count": null,
      "metadata": {
        "id": "41TbjFWCHqIE"
      },
      "outputs": [],
      "source": [
        "# Criando uma lista\n",
        "lista_formacoes_dsa = [\"Analista de Dados\", \"Cientista de Dados\", \"Engenheiro de Dados\"]"
      ]
    },
    {
      "cell_type": "code",
      "execution_count": null,
      "metadata": {
        "id": "TvB6fFnIHqIE",
        "outputId": "3e96c7aa-21b8-4bb4-d532-a6d2dfdd157f"
      },
      "outputs": [
        {
          "data": {
            "text/plain": [
              "['Analista de Dados', 'Cientista de Dados', 'Engenheiro de Dados']"
            ]
          },
          "execution_count": 68,
          "metadata": {},
          "output_type": "execute_result"
        }
      ],
      "source": [
        "lista_formacoes_dsa"
      ]
    },
    {
      "cell_type": "code",
      "execution_count": null,
      "metadata": {
        "id": "rEnsi8QFHqIG"
      },
      "outputs": [],
      "source": [
        "# Adicionando um item à lista\n",
        "lista_formacoes_dsa.append(\"Engenheiro de IA\")"
      ]
    },
    {
      "cell_type": "code",
      "execution_count": null,
      "metadata": {
        "id": "IobnNHeHHqIH",
        "outputId": "383730ae-e634-4481-dbda-d9b17efef180"
      },
      "outputs": [
        {
          "data": {
            "text/plain": [
              "['Analista de Dados',\n",
              " 'Cientista de Dados',\n",
              " 'Engenheiro de Dados',\n",
              " 'Engenheiro de IA']"
            ]
          },
          "execution_count": 70,
          "metadata": {},
          "output_type": "execute_result"
        }
      ],
      "source": [
        "lista_formacoes_dsa"
      ]
    },
    {
      "cell_type": "code",
      "execution_count": null,
      "metadata": {
        "id": "iSANCRmGHqIH"
      },
      "outputs": [],
      "source": [
        "lista_formacoes_dsa.append(\"Engenheiro de IA\")"
      ]
    },
    {
      "cell_type": "code",
      "execution_count": null,
      "metadata": {
        "scrolled": true,
        "id": "4hAvLEjtHqIL",
        "outputId": "03739a9c-34b5-4b00-da61-38a351fe0391"
      },
      "outputs": [
        {
          "data": {
            "text/plain": [
              "['Analista de Dados',\n",
              " 'Cientista de Dados',\n",
              " 'Engenheiro de Dados',\n",
              " 'Engenheiro de IA',\n",
              " 'Engenheiro de IA']"
            ]
          },
          "execution_count": 72,
          "metadata": {},
          "output_type": "execute_result"
        }
      ],
      "source": [
        "lista_formacoes_dsa"
      ]
    },
    {
      "cell_type": "code",
      "execution_count": null,
      "metadata": {
        "id": "bBuMbCdaHqIL",
        "outputId": "000ce814-7eec-4104-c285-eed06a58a691"
      },
      "outputs": [
        {
          "data": {
            "text/plain": [
              "2"
            ]
          },
          "execution_count": 73,
          "metadata": {},
          "output_type": "execute_result"
        }
      ],
      "source": [
        "lista_formacoes_dsa.count(\"Engenheiro de IA\")"
      ]
    },
    {
      "cell_type": "code",
      "execution_count": null,
      "metadata": {
        "id": "ef0sYFHSHqIM"
      },
      "outputs": [],
      "source": [
        "# Criando uma lista vazia\n",
        "a = []"
      ]
    },
    {
      "cell_type": "code",
      "execution_count": null,
      "metadata": {
        "id": "OvaEXl-sHqIM",
        "outputId": "46419bcc-08a4-47ef-b790-8ad2c4b2c3cc"
      },
      "outputs": [
        {
          "name": "stdout",
          "output_type": "stream",
          "text": [
            "[]\n"
          ]
        }
      ],
      "source": [
        "print(a)"
      ]
    },
    {
      "cell_type": "code",
      "execution_count": null,
      "metadata": {
        "id": "r2ZXAgH-HqIN",
        "outputId": "df0a7c67-f858-464f-cf55-4090d38dc639"
      },
      "outputs": [
        {
          "data": {
            "text/plain": [
              "list"
            ]
          },
          "execution_count": 76,
          "metadata": {},
          "output_type": "execute_result"
        }
      ],
      "source": [
        "type(a)"
      ]
    },
    {
      "cell_type": "code",
      "execution_count": null,
      "metadata": {
        "id": "ZVF_WsF4HqIO"
      },
      "outputs": [],
      "source": [
        "a.append(10)"
      ]
    },
    {
      "cell_type": "code",
      "execution_count": null,
      "metadata": {
        "id": "mw2HrO5gHqIO",
        "outputId": "f5445d77-fa1f-4948-9f62-be3901d20878"
      },
      "outputs": [
        {
          "data": {
            "text/plain": [
              "[10]"
            ]
          },
          "execution_count": 78,
          "metadata": {},
          "output_type": "execute_result"
        }
      ],
      "source": [
        "a"
      ]
    },
    {
      "cell_type": "code",
      "execution_count": null,
      "metadata": {
        "id": "ZFKCY5laHqIO"
      },
      "outputs": [],
      "source": [
        "a.append(50)"
      ]
    },
    {
      "cell_type": "code",
      "execution_count": null,
      "metadata": {
        "id": "8-CHrvA7HqIO",
        "outputId": "75ffdf30-9fa0-42e3-8340-3d2d50ce9ed0"
      },
      "outputs": [
        {
          "data": {
            "text/plain": [
              "[10, 50]"
            ]
          },
          "execution_count": 80,
          "metadata": {},
          "output_type": "execute_result"
        }
      ],
      "source": [
        "a"
      ]
    },
    {
      "cell_type": "code",
      "execution_count": null,
      "metadata": {
        "id": "LyseFPtPHqIP"
      },
      "outputs": [],
      "source": [
        "old_list = [1,2,5,10]"
      ]
    },
    {
      "cell_type": "code",
      "execution_count": null,
      "metadata": {
        "id": "zSjYTwoSHqIQ"
      },
      "outputs": [],
      "source": [
        "new_list = []"
      ]
    },
    {
      "cell_type": "code",
      "execution_count": null,
      "metadata": {
        "id": "b3-ych6eHqIQ"
      },
      "outputs": [],
      "source": [
        "# Copiando os itens de uma lista para outra\n",
        "for item in old_list:\n",
        "    new_list.append(item)"
      ]
    },
    {
      "cell_type": "code",
      "execution_count": null,
      "metadata": {
        "id": "DwAfTkFfHqIQ",
        "outputId": "06018527-9825-417b-a66b-b493e64f54bf"
      },
      "outputs": [
        {
          "name": "stdout",
          "output_type": "stream",
          "text": [
            "Digite um valor (-1 para sair): 5\n",
            "Digite um valor (-1 para sair): 6\n",
            "Digite um valor (-1 para sair): 89\n",
            "Digite um valor (-1 para sair): 1234\n",
            "Digite um valor (-1 para sair): 3\n",
            "Digite um valor (-1 para sair): -1\n",
            "[5, 6, 89, 1234, 3]\n"
          ]
        }
      ],
      "source": [
        "lista = []\n",
        "while True:\n",
        "    n = int(input(\"Digite um valor (-1 para sair): \"))\n",
        "    if n == -1:\n",
        "        break\n",
        "    lista.append(n)\n",
        "\n",
        "print(lista)"
      ]
    },
    {
      "cell_type": "code",
      "execution_count": null,
      "metadata": {
        "id": "njfHGmGjHqIR",
        "outputId": "6ca43865-4684-4f45-842e-b4c0604411d5"
      },
      "outputs": [
        {
          "data": {
            "text/plain": [
              "[1, 2, 5, 10]"
            ]
          },
          "execution_count": 84,
          "metadata": {},
          "output_type": "execute_result"
        }
      ],
      "source": [
        "new_list"
      ]
    },
    {
      "cell_type": "code",
      "execution_count": null,
      "metadata": {
        "id": "-1JJaB28HqIR",
        "outputId": "178adca0-c1de-46e7-9f20-a33ccb9e501b"
      },
      "outputs": [
        {
          "name": "stdout",
          "output_type": "stream",
          "text": [
            "['Recife', 'Manaus', 'Salvador', 'Fortaleza', 'Palmas']\n"
          ]
        }
      ],
      "source": [
        "cidades = ['Recife', 'Manaus', 'Salvador']\n",
        "cidades.extend(['Fortaleza', 'Palmas'])\n",
        "print (cidades)"
      ]
    },
    {
      "cell_type": "code",
      "execution_count": null,
      "metadata": {
        "id": "-K68nO2RHqIS",
        "outputId": "01a67671-1edd-4436-b4e3-617a126b89b5"
      },
      "outputs": [
        {
          "data": {
            "text/plain": [
              "2"
            ]
          },
          "execution_count": 87,
          "metadata": {},
          "output_type": "execute_result"
        }
      ],
      "source": [
        "cidades.index('Salvador')"
      ]
    },
    {
      "cell_type": "markdown",
      "metadata": {
        "id": "Ustc3oTfHqIS"
      },
      "source": [
        "Lembre-se: em Python o índice começa por 0!"
      ]
    },
    {
      "cell_type": "code",
      "execution_count": null,
      "metadata": {
        "id": "aMa2xj5iHqIT",
        "outputId": "65b374aa-7bd7-48dd-bf9a-b62b82e866d7"
      },
      "outputs": [
        {
          "ename": "ValueError",
          "evalue": "'Rio de Janeiro' is not in list",
          "output_type": "error",
          "traceback": [
            "\u001b[1;31m---------------------------------------------------------------------------\u001b[0m",
            "\u001b[1;31mValueError\u001b[0m                                Traceback (most recent call last)",
            "Cell \u001b[1;32mIn[88], line 1\u001b[0m\n\u001b[1;32m----> 1\u001b[0m cidades\u001b[38;5;241m.\u001b[39mindex(\u001b[38;5;124m'\u001b[39m\u001b[38;5;124mRio de Janeiro\u001b[39m\u001b[38;5;124m'\u001b[39m)\n",
            "\u001b[1;31mValueError\u001b[0m: 'Rio de Janeiro' is not in list"
          ]
        }
      ],
      "source": [
        "cidades.index('Rio de Janeiro')"
      ]
    },
    {
      "cell_type": "code",
      "execution_count": null,
      "metadata": {
        "id": "xrW0YZaWHqIT",
        "outputId": "0c3f7f04-c85f-4e94-c66f-f1cc9152a759"
      },
      "outputs": [
        {
          "data": {
            "text/plain": [
              "['Recife', 'Manaus', 'Salvador', 'Fortaleza', 'Palmas']"
            ]
          },
          "execution_count": 89,
          "metadata": {},
          "output_type": "execute_result"
        }
      ],
      "source": [
        "cidades"
      ]
    },
    {
      "cell_type": "code",
      "execution_count": null,
      "metadata": {
        "id": "m_MrYWKmHqIT"
      },
      "outputs": [],
      "source": [
        "cidades.insert(2, 110)"
      ]
    },
    {
      "cell_type": "code",
      "execution_count": null,
      "metadata": {
        "id": "tBiMVaHCHqIU",
        "outputId": "b8586e4e-3a4e-4c8b-871d-2ce9151a6553"
      },
      "outputs": [
        {
          "data": {
            "text/plain": [
              "['Recife', 'Manaus', 110, 'Salvador', 'Fortaleza', 'Palmas']"
            ]
          },
          "execution_count": 91,
          "metadata": {},
          "output_type": "execute_result"
        }
      ],
      "source": [
        "cidades"
      ]
    },
    {
      "cell_type": "code",
      "execution_count": null,
      "metadata": {
        "id": "yDuEb9iFHqIV"
      },
      "outputs": [],
      "source": [
        "# Remove um item da lista\n",
        "cidades.remove(110)"
      ]
    },
    {
      "cell_type": "code",
      "execution_count": null,
      "metadata": {
        "id": "we7KcnPyHqIV",
        "outputId": "9d8a4325-9e7c-4655-ae73-d8900b2198f8"
      },
      "outputs": [
        {
          "data": {
            "text/plain": [
              "['Recife', 'Manaus', 'Salvador', 'Fortaleza', 'Palmas']"
            ]
          },
          "execution_count": 93,
          "metadata": {},
          "output_type": "execute_result"
        }
      ],
      "source": [
        "cidades"
      ]
    },
    {
      "cell_type": "code",
      "execution_count": null,
      "metadata": {
        "id": "bjesUSPnHqIW"
      },
      "outputs": [],
      "source": [
        "# Reverte a lista\n",
        "cidades.reverse()"
      ]
    },
    {
      "cell_type": "code",
      "execution_count": null,
      "metadata": {
        "id": "UZ95nkJ_HqIW",
        "outputId": "bb9acad4-f8a4-4f94-e410-0433ab81901b"
      },
      "outputs": [
        {
          "data": {
            "text/plain": [
              "['Palmas', 'Fortaleza', 'Salvador', 'Manaus', 'Recife']"
            ]
          },
          "execution_count": 95,
          "metadata": {},
          "output_type": "execute_result"
        }
      ],
      "source": [
        "# Imprime a lista\n",
        "cidades"
      ]
    },
    {
      "cell_type": "code",
      "execution_count": null,
      "metadata": {
        "id": "lWwyxy3rHqIX"
      },
      "outputs": [],
      "source": [
        "x = [3, 4, 2, 1]"
      ]
    },
    {
      "cell_type": "code",
      "execution_count": null,
      "metadata": {
        "id": "lbvajhkfHqIX",
        "outputId": "e281d3ca-aa2d-4fd9-d9fe-9a4cd9dd029a"
      },
      "outputs": [
        {
          "data": {
            "text/plain": [
              "[3, 4, 2, 1]"
            ]
          },
          "execution_count": 97,
          "metadata": {},
          "output_type": "execute_result"
        }
      ],
      "source": [
        "x"
      ]
    },
    {
      "cell_type": "code",
      "execution_count": null,
      "metadata": {
        "id": "IrDYdiMyHqIX"
      },
      "outputs": [],
      "source": [
        "# Ordena a lista\n",
        "x.sort()"
      ]
    },
    {
      "cell_type": "code",
      "execution_count": null,
      "metadata": {
        "id": "5Um5gx9bHqIY",
        "outputId": "bbb60486-b34d-4015-a5ed-6c27a022fc66"
      },
      "outputs": [
        {
          "data": {
            "text/plain": [
              "[1, 2, 3, 4]"
            ]
          },
          "execution_count": 103,
          "metadata": {},
          "output_type": "execute_result"
        }
      ],
      "source": [
        "x"
      ]
    },
    {
      "cell_type": "markdown",
      "metadata": {
        "id": "ZC1XKnG-HqIY"
      },
      "source": [
        "## <font color='blue'>TUPLAS...</font>\n",
        "---\n",
        "### Trabalhando com Tuplas"
      ]
    },
    {
      "cell_type": "code",
      "execution_count": 5,
      "metadata": {
        "colab": {
          "base_uri": "https://localhost:8080/",
          "height": 166
        },
        "id": "e5D221h-HqIY",
        "outputId": "c9d6dba3-3f4d-4413-cbfe-6ccc6661d4e9"
      },
      "outputs": [
        {
          "output_type": "error",
          "ename": "NameError",
          "evalue": "name 'tupla' is not defined",
          "traceback": [
            "\u001b[0;31m---------------------------------------------------------------------------\u001b[0m",
            "\u001b[0;31mNameError\u001b[0m                                 Traceback (most recent call last)",
            "\u001b[0;32m<ipython-input-5-2df5ec870804>\u001b[0m in \u001b[0;36m<cell line: 2>\u001b[0;34m()\u001b[0m\n\u001b[1;32m      1\u001b[0m \u001b[0;31m# Imprimindo a tupla\u001b[0m\u001b[0;34m\u001b[0m\u001b[0;34m\u001b[0m\u001b[0m\n\u001b[0;32m----> 2\u001b[0;31m \u001b[0mtupla\u001b[0m\u001b[0;34m\u001b[0m\u001b[0;34m\u001b[0m\u001b[0m\n\u001b[0m",
            "\u001b[0;31mNameError\u001b[0m: name 'tupla' is not defined"
          ]
        }
      ],
      "source": [
        "# Imprimindo a tupla\n",
        "tupla"
      ]
    },
    {
      "cell_type": "code",
      "execution_count": 4,
      "metadata": {
        "id": "fPJsMGSHHqIZ"
      },
      "outputs": [],
      "source": [
        "# Criando uma tupla\n",
        "tupla1 = (\"Geografia\", 23, \"Elefantes\", 9.8, 'Python')"
      ]
    },
    {
      "cell_type": "code",
      "execution_count": 6,
      "metadata": {
        "colab": {
          "base_uri": "https://localhost:8080/",
          "height": 166
        },
        "id": "fH7iCf-PHqIZ",
        "outputId": "17552c64-9431-422c-f793-f4959955b054"
      },
      "outputs": [
        {
          "output_type": "error",
          "ename": "AttributeError",
          "evalue": "'tuple' object has no attribute 'append'",
          "traceback": [
            "\u001b[0;31m---------------------------------------------------------------------------\u001b[0m",
            "\u001b[0;31mAttributeError\u001b[0m                            Traceback (most recent call last)",
            "\u001b[0;32m<ipython-input-6-cb90e5e5a1a0>\u001b[0m in \u001b[0;36m<cell line: 2>\u001b[0;34m()\u001b[0m\n\u001b[1;32m      1\u001b[0m \u001b[0;31m# Tuplas não suportam append()\u001b[0m\u001b[0;34m\u001b[0m\u001b[0;34m\u001b[0m\u001b[0m\n\u001b[0;32m----> 2\u001b[0;31m \u001b[0mtupla1\u001b[0m\u001b[0;34m.\u001b[0m\u001b[0mappend\u001b[0m\u001b[0;34m(\u001b[0m\u001b[0;34m\"Chocolate\"\u001b[0m\u001b[0;34m)\u001b[0m\u001b[0;34m\u001b[0m\u001b[0;34m\u001b[0m\u001b[0m\n\u001b[0m",
            "\u001b[0;31mAttributeError\u001b[0m: 'tuple' object has no attribute 'append'"
          ]
        }
      ],
      "source": [
        "# Tuplas não suportam append()\n",
        "tupla1.append(\"Chocolate\")"
      ]
    },
    {
      "cell_type": "code",
      "execution_count": 7,
      "metadata": {
        "colab": {
          "base_uri": "https://localhost:8080/",
          "height": 166
        },
        "id": "ua550Qw4HqIZ",
        "outputId": "bab830c0-593d-4bbc-aed0-8c7cd01e66c9"
      },
      "outputs": [
        {
          "output_type": "error",
          "ename": "TypeError",
          "evalue": "'tuple' object does not support item deletion",
          "traceback": [
            "\u001b[0;31m---------------------------------------------------------------------------\u001b[0m",
            "\u001b[0;31mTypeError\u001b[0m                                 Traceback (most recent call last)",
            "\u001b[0;32m<ipython-input-7-cb5cf10f209a>\u001b[0m in \u001b[0;36m<cell line: 2>\u001b[0;34m()\u001b[0m\n\u001b[1;32m      1\u001b[0m \u001b[0;31m# Tuplas não suportam delete de um item específico\u001b[0m\u001b[0;34m\u001b[0m\u001b[0;34m\u001b[0m\u001b[0m\n\u001b[0;32m----> 2\u001b[0;31m \u001b[0;32mdel\u001b[0m \u001b[0mtupla1\u001b[0m\u001b[0;34m[\u001b[0m\u001b[0;34m\"Elefantes\"\u001b[0m\u001b[0;34m]\u001b[0m\u001b[0;34m\u001b[0m\u001b[0;34m\u001b[0m\u001b[0m\n\u001b[0m",
            "\u001b[0;31mTypeError\u001b[0m: 'tuple' object does not support item deletion"
          ]
        }
      ],
      "source": [
        "# Tuplas não suportam delete de um item específico\n",
        "del tupla1[\"Elefantes\"]"
      ]
    },
    {
      "cell_type": "code",
      "execution_count": 8,
      "metadata": {
        "id": "ROWS6Zs_HqIZ"
      },
      "outputs": [],
      "source": [
        "# Tuplas podem ter um único item\n",
        "tupla1 = (\"Chocolate\")"
      ]
    },
    {
      "cell_type": "code",
      "execution_count": 9,
      "metadata": {
        "colab": {
          "base_uri": "https://localhost:8080/",
          "height": 36
        },
        "id": "wCrwzt74HqIa",
        "outputId": "20f6b5db-b16e-46fd-8bc8-636f8aa1320e"
      },
      "outputs": [
        {
          "output_type": "execute_result",
          "data": {
            "text/plain": [
              "'Chocolate'"
            ],
            "application/vnd.google.colaboratory.intrinsic+json": {
              "type": "string"
            }
          },
          "metadata": {},
          "execution_count": 9
        }
      ],
      "source": [
        "tupla1"
      ]
    },
    {
      "cell_type": "code",
      "execution_count": 11,
      "metadata": {
        "id": "akQSjX9fHqIa"
      },
      "outputs": [],
      "source": [
        "tupla1 = (\"Geografia\", 23, \"Elefantes\", 9.8, 'Python')"
      ]
    },
    {
      "cell_type": "code",
      "execution_count": 12,
      "metadata": {
        "colab": {
          "base_uri": "https://localhost:8080/",
          "height": 36
        },
        "id": "2MwSicdPHqIa",
        "outputId": "365f82a0-568a-4de0-e0f8-08f5e9924892"
      },
      "outputs": [
        {
          "output_type": "execute_result",
          "data": {
            "text/plain": [
              "'Geografia'"
            ],
            "application/vnd.google.colaboratory.intrinsic+json": {
              "type": "string"
            }
          },
          "metadata": {},
          "execution_count": 12
        }
      ],
      "source": [
        "tupla1[0]"
      ]
    },
    {
      "cell_type": "code",
      "execution_count": 13,
      "metadata": {
        "colab": {
          "base_uri": "https://localhost:8080/"
        },
        "id": "fMvubB6qHqIa",
        "outputId": "7363cd89-9950-4e44-f64f-0c4ff0652559"
      },
      "outputs": [
        {
          "output_type": "execute_result",
          "data": {
            "text/plain": [
              "5"
            ]
          },
          "metadata": {},
          "execution_count": 13
        }
      ],
      "source": [
        "# Verificando o comprimento da tupla\n",
        "len(tupla1)"
      ]
    },
    {
      "cell_type": "code",
      "execution_count": 14,
      "metadata": {
        "colab": {
          "base_uri": "https://localhost:8080/"
        },
        "id": "bz_P0l8OHqIb",
        "outputId": "3841d877-4928-4f2a-b6e7-359840ceacc2"
      },
      "outputs": [
        {
          "output_type": "execute_result",
          "data": {
            "text/plain": [
              "(23, 'Elefantes', 9.8, 'Python')"
            ]
          },
          "metadata": {},
          "execution_count": 14
        }
      ],
      "source": [
        "# Slicing, da mesma forma que se faz com listas\n",
        "tupla1[1:]"
      ]
    },
    {
      "cell_type": "code",
      "execution_count": 15,
      "metadata": {
        "colab": {
          "base_uri": "https://localhost:8080/"
        },
        "id": "XwH9lVgjHqIb",
        "outputId": "a5d72cf4-9ad2-4d4c-aabc-f4aa5a209fd7"
      },
      "outputs": [
        {
          "output_type": "execute_result",
          "data": {
            "text/plain": [
              "2"
            ]
          },
          "metadata": {},
          "execution_count": 15
        }
      ],
      "source": [
        "tupla1.index('Elefantes')"
      ]
    },
    {
      "cell_type": "code",
      "execution_count": 16,
      "metadata": {
        "colab": {
          "base_uri": "https://localhost:8080/",
          "height": 166
        },
        "id": "4Xvy_NbiHqIb",
        "outputId": "564a5007-38cf-4d1b-8921-1255235dd1ce"
      },
      "outputs": [
        {
          "output_type": "error",
          "ename": "TypeError",
          "evalue": "'tuple' object does not support item assignment",
          "traceback": [
            "\u001b[0;31m---------------------------------------------------------------------------\u001b[0m",
            "\u001b[0;31mTypeError\u001b[0m                                 Traceback (most recent call last)",
            "\u001b[0;32m<ipython-input-16-59bcc25f7f2b>\u001b[0m in \u001b[0;36m<cell line: 2>\u001b[0;34m()\u001b[0m\n\u001b[1;32m      1\u001b[0m \u001b[0;31m# Tuplas não suportam atribuição de item\u001b[0m\u001b[0;34m\u001b[0m\u001b[0;34m\u001b[0m\u001b[0m\n\u001b[0;32m----> 2\u001b[0;31m \u001b[0mtupla1\u001b[0m\u001b[0;34m[\u001b[0m\u001b[0;36m1\u001b[0m\u001b[0;34m]\u001b[0m \u001b[0;34m=\u001b[0m \u001b[0;36m21\u001b[0m\u001b[0;34m\u001b[0m\u001b[0;34m\u001b[0m\u001b[0m\n\u001b[0m",
            "\u001b[0;31mTypeError\u001b[0m: 'tuple' object does not support item assignment"
          ]
        }
      ],
      "source": [
        "# Tuplas não suportam atribuição de item\n",
        "tupla1[1] = 21"
      ]
    },
    {
      "cell_type": "code",
      "execution_count": 17,
      "metadata": {
        "id": "wJSIs9FmHqIb"
      },
      "outputs": [],
      "source": [
        "# Deletando a tupla\n",
        "del tupla1"
      ]
    },
    {
      "cell_type": "code",
      "execution_count": 18,
      "metadata": {
        "colab": {
          "base_uri": "https://localhost:8080/",
          "height": 148
        },
        "id": "0RlfBOHOHqIc",
        "outputId": "002c4fcf-afc3-4a0d-de04-9cd22d949eb2"
      },
      "outputs": [
        {
          "output_type": "error",
          "ename": "NameError",
          "evalue": "name 'tupla1' is not defined",
          "traceback": [
            "\u001b[0;31m---------------------------------------------------------------------------\u001b[0m",
            "\u001b[0;31mNameError\u001b[0m                                 Traceback (most recent call last)",
            "\u001b[0;32m<ipython-input-18-9c021f243716>\u001b[0m in \u001b[0;36m<cell line: 1>\u001b[0;34m()\u001b[0m\n\u001b[0;32m----> 1\u001b[0;31m \u001b[0mtupla1\u001b[0m\u001b[0;34m\u001b[0m\u001b[0;34m\u001b[0m\u001b[0m\n\u001b[0m",
            "\u001b[0;31mNameError\u001b[0m: name 'tupla1' is not defined"
          ]
        }
      ],
      "source": [
        "tupla1"
      ]
    },
    {
      "cell_type": "code",
      "execution_count": 20,
      "metadata": {
        "id": "t_wt9WUHHqIc"
      },
      "outputs": [],
      "source": [
        "# Criando uma tupla\n",
        "t2 = ('A', 'B', 'C')"
      ]
    },
    {
      "cell_type": "code",
      "execution_count": 21,
      "metadata": {
        "colab": {
          "base_uri": "https://localhost:8080/"
        },
        "id": "p5hPiCTOHqId",
        "outputId": "5383a07b-6f61-480c-b896-a12838004922"
      },
      "outputs": [
        {
          "output_type": "execute_result",
          "data": {
            "text/plain": [
              "('A', 'B', 'C')"
            ]
          },
          "metadata": {},
          "execution_count": 21
        }
      ],
      "source": [
        "t2"
      ]
    },
    {
      "cell_type": "code",
      "execution_count": 22,
      "metadata": {
        "colab": {
          "base_uri": "https://localhost:8080/",
          "height": 166
        },
        "id": "08gOUwSWHqIe",
        "outputId": "4dfed19c-299f-4be0-c251-d71a7150f1d8"
      },
      "outputs": [
        {
          "output_type": "error",
          "ename": "TypeError",
          "evalue": "'tuple' object does not support item assignment",
          "traceback": [
            "\u001b[0;31m---------------------------------------------------------------------------\u001b[0m",
            "\u001b[0;31mTypeError\u001b[0m                                 Traceback (most recent call last)",
            "\u001b[0;32m<ipython-input-22-f90994f4060e>\u001b[0m in \u001b[0;36m<cell line: 2>\u001b[0;34m()\u001b[0m\n\u001b[1;32m      1\u001b[0m \u001b[0;31m# Tuplas não suportam atribuição de item\u001b[0m\u001b[0;34m\u001b[0m\u001b[0;34m\u001b[0m\u001b[0m\n\u001b[0;32m----> 2\u001b[0;31m \u001b[0mt2\u001b[0m\u001b[0;34m[\u001b[0m\u001b[0;36m0\u001b[0m\u001b[0;34m]\u001b[0m \u001b[0;34m=\u001b[0m \u001b[0;34m'D'\u001b[0m\u001b[0;34m\u001b[0m\u001b[0;34m\u001b[0m\u001b[0m\n\u001b[0m",
            "\u001b[0;31mTypeError\u001b[0m: 'tuple' object does not support item assignment"
          ]
        }
      ],
      "source": [
        "# Tuplas não suportam atribuição de item\n",
        "t2[0] = 'D'"
      ]
    },
    {
      "cell_type": "code",
      "execution_count": 23,
      "metadata": {
        "id": "rt_QDNv-HqIf"
      },
      "outputs": [],
      "source": [
        "# Usando a função list() para converter uma tupla para lista\n",
        "lista_t2 = list(t2)"
      ]
    },
    {
      "cell_type": "code",
      "execution_count": 24,
      "metadata": {
        "colab": {
          "base_uri": "https://localhost:8080/"
        },
        "id": "ENDi4GoWHqIf",
        "outputId": "2917026c-9a37-4ee2-a2fa-eed125b46b30"
      },
      "outputs": [
        {
          "output_type": "execute_result",
          "data": {
            "text/plain": [
              "tuple"
            ]
          },
          "metadata": {},
          "execution_count": 24
        }
      ],
      "source": [
        "type(t2)"
      ]
    },
    {
      "cell_type": "code",
      "execution_count": 25,
      "metadata": {
        "colab": {
          "base_uri": "https://localhost:8080/"
        },
        "id": "T_DcXGFtHqIf",
        "outputId": "374e18f9-2723-4f91-fd6c-bc326a2562be"
      },
      "outputs": [
        {
          "output_type": "execute_result",
          "data": {
            "text/plain": [
              "list"
            ]
          },
          "metadata": {},
          "execution_count": 25
        }
      ],
      "source": [
        "type(lista_t2)"
      ]
    },
    {
      "cell_type": "code",
      "execution_count": 26,
      "metadata": {
        "colab": {
          "base_uri": "https://localhost:8080/"
        },
        "id": "xg80kR4GHqIg",
        "outputId": "4ec40a28-a8b2-4df4-a479-30f9613e6f27"
      },
      "outputs": [
        {
          "output_type": "execute_result",
          "data": {
            "text/plain": [
              "['A', 'B', 'C']"
            ]
          },
          "metadata": {},
          "execution_count": 26
        }
      ],
      "source": [
        "lista_t2"
      ]
    },
    {
      "cell_type": "code",
      "execution_count": 28,
      "metadata": {
        "id": "ppoPJkVLHqIg"
      },
      "outputs": [],
      "source": [
        "lista_t2.append('D')"
      ]
    },
    {
      "cell_type": "code",
      "execution_count": 29,
      "metadata": {
        "id": "uLbZFJVZHqIh"
      },
      "outputs": [],
      "source": [
        "# Usando a função tuple() para converter uma lista para tupla\n",
        "t2 = tuple(lista_t2)"
      ]
    },
    {
      "cell_type": "code",
      "execution_count": 30,
      "metadata": {
        "colab": {
          "base_uri": "https://localhost:8080/"
        },
        "id": "2NIzWwSQHqIh",
        "outputId": "fc2d6d89-c876-4983-a111-aa690eb7c634"
      },
      "outputs": [
        {
          "output_type": "execute_result",
          "data": {
            "text/plain": [
              "('A', 'B', 'C', 'D', 'D')"
            ]
          },
          "metadata": {},
          "execution_count": 30
        }
      ],
      "source": [
        "t2"
      ]
    },
    {
      "cell_type": "markdown",
      "metadata": {
        "id": "sIMfZOo2HqIh"
      },
      "source": [
        "### Funções Built-in"
      ]
    },
    {
      "cell_type": "markdown",
      "metadata": {
        "id": "VtuXKMy_HqIi"
      },
      "source": [
        "![Tuplas](tuplas.jpg)"
      ]
    },
    {
      "cell_type": "markdown",
      "metadata": {
        "id": "xDPGriTJHqIi"
      },
      "source": [
        "## <font color='blue'>DICIONÁRIOS...</font>\n",
        "---\n",
        "### Trabalhando com Dicionários"
      ]
    },
    {
      "cell_type": "markdown",
      "metadata": {
        "id": "8JBkQ6l4HqIi"
      },
      "source": [
        "![Dicionários](dicionarios.jpg)"
      ]
    },
    {
      "cell_type": "code",
      "execution_count": null,
      "metadata": {
        "id": "7tYhFJRTHqIi"
      },
      "outputs": [],
      "source": [
        "# Isso é uma lista\n",
        "estudantes_lst = [\"Pedro\", 24, \"Ana\", 22, \"Ronaldo\", 26, \"Janaina\", 25]"
      ]
    },
    {
      "cell_type": "code",
      "execution_count": null,
      "metadata": {
        "id": "z9mv0GVUHqIj"
      },
      "outputs": [],
      "source": [
        "estudantes_lst"
      ]
    },
    {
      "cell_type": "code",
      "execution_count": null,
      "metadata": {
        "id": "GOimki4-HqIj"
      },
      "outputs": [],
      "source": [
        "type(estudantes_lst)"
      ]
    },
    {
      "cell_type": "code",
      "execution_count": 32,
      "metadata": {
        "id": "KzPyMQjQHqIj"
      },
      "outputs": [],
      "source": [
        "# Isso é um dicionário\n",
        "estudantes_dict = {\"Pedro\":24, \"Ana\":22, \"Ronaldo\":26, \"Janaina\":25}"
      ]
    },
    {
      "cell_type": "code",
      "execution_count": 33,
      "metadata": {
        "colab": {
          "base_uri": "https://localhost:8080/"
        },
        "id": "4BzxEBjsHqIj",
        "outputId": "5ec82a51-32c2-4f3c-9fce-922dd25a2d36"
      },
      "outputs": [
        {
          "output_type": "execute_result",
          "data": {
            "text/plain": [
              "{'Pedro': 24, 'Ana': 22, 'Ronaldo': 26, 'Janaina': 25}"
            ]
          },
          "metadata": {},
          "execution_count": 33
        }
      ],
      "source": [
        "estudantes_dict"
      ]
    },
    {
      "cell_type": "code",
      "execution_count": 34,
      "metadata": {
        "colab": {
          "base_uri": "https://localhost:8080/"
        },
        "id": "l4dlCocgHqIk",
        "outputId": "c311b61b-930b-45e6-9841-902265c5e1d7"
      },
      "outputs": [
        {
          "output_type": "execute_result",
          "data": {
            "text/plain": [
              "dict"
            ]
          },
          "metadata": {},
          "execution_count": 34
        }
      ],
      "source": [
        "type(estudantes_dict)"
      ]
    },
    {
      "cell_type": "code",
      "execution_count": 35,
      "metadata": {
        "colab": {
          "base_uri": "https://localhost:8080/"
        },
        "id": "lNJmbyBlHqIk",
        "outputId": "4d2a11b5-9a2c-47af-bbe6-c8c287b9ff11"
      },
      "outputs": [
        {
          "output_type": "execute_result",
          "data": {
            "text/plain": [
              "24"
            ]
          },
          "metadata": {},
          "execution_count": 35
        }
      ],
      "source": [
        "estudantes_dict[\"Pedro\"]"
      ]
    },
    {
      "cell_type": "code",
      "execution_count": 37,
      "metadata": {
        "id": "CYTLwVETHqIl"
      },
      "outputs": [],
      "source": [
        "estudantes_dict[\"Marcelo\"] = 23"
      ]
    },
    {
      "cell_type": "code",
      "execution_count": 38,
      "metadata": {
        "colab": {
          "base_uri": "https://localhost:8080/"
        },
        "id": "m9A2TtRRHqIq",
        "outputId": "48e08f33-9f61-4100-8f71-43492ed488cb"
      },
      "outputs": [
        {
          "output_type": "execute_result",
          "data": {
            "text/plain": [
              "23"
            ]
          },
          "metadata": {},
          "execution_count": 38
        }
      ],
      "source": [
        "estudantes_dict[\"Marcelo\"]"
      ]
    },
    {
      "cell_type": "code",
      "execution_count": 39,
      "metadata": {
        "colab": {
          "base_uri": "https://localhost:8080/"
        },
        "id": "zSr-YY0eHqIq",
        "outputId": "ccaaaedb-ad75-42b5-b830-d05a40f19f87"
      },
      "outputs": [
        {
          "output_type": "execute_result",
          "data": {
            "text/plain": [
              "{'Pedro': 24, 'Ana': 22, 'Ronaldo': 26, 'Janaina': 25, 'Marcelo': 23}"
            ]
          },
          "metadata": {},
          "execution_count": 39
        }
      ],
      "source": [
        "estudantes_dict"
      ]
    },
    {
      "cell_type": "code",
      "execution_count": 40,
      "metadata": {
        "id": "Q7lGhBimHqIr"
      },
      "outputs": [],
      "source": [
        "estudantes_dict.clear()"
      ]
    },
    {
      "cell_type": "code",
      "execution_count": 42,
      "metadata": {
        "colab": {
          "base_uri": "https://localhost:8080/"
        },
        "id": "WSEstAsnHqIr",
        "outputId": "a7c4466e-7e17-42da-ff10-3bcf289b00a1"
      },
      "outputs": [
        {
          "output_type": "execute_result",
          "data": {
            "text/plain": [
              "{}"
            ]
          },
          "metadata": {},
          "execution_count": 42
        }
      ],
      "source": [
        "estudantes_dict"
      ]
    },
    {
      "cell_type": "code",
      "execution_count": 43,
      "metadata": {
        "id": "Cq_t3GMrHqIr"
      },
      "outputs": [],
      "source": [
        "del estudantes_dict"
      ]
    },
    {
      "cell_type": "code",
      "execution_count": 44,
      "metadata": {
        "colab": {
          "base_uri": "https://localhost:8080/",
          "height": 148
        },
        "id": "BUSRSGDBHqIs",
        "outputId": "49a36a21-eb35-4fa4-c3a9-8848e5a08009"
      },
      "outputs": [
        {
          "output_type": "error",
          "ename": "NameError",
          "evalue": "name 'estudantes_dict' is not defined",
          "traceback": [
            "\u001b[0;31m---------------------------------------------------------------------------\u001b[0m",
            "\u001b[0;31mNameError\u001b[0m                                 Traceback (most recent call last)",
            "\u001b[0;32m<ipython-input-44-29b87ec1321c>\u001b[0m in \u001b[0;36m<cell line: 1>\u001b[0;34m()\u001b[0m\n\u001b[0;32m----> 1\u001b[0;31m \u001b[0mestudantes_dict\u001b[0m\u001b[0;34m\u001b[0m\u001b[0;34m\u001b[0m\u001b[0m\n\u001b[0m",
            "\u001b[0;31mNameError\u001b[0m: name 'estudantes_dict' is not defined"
          ]
        }
      ],
      "source": [
        "estudantes_dict"
      ]
    },
    {
      "cell_type": "code",
      "execution_count": 45,
      "metadata": {
        "id": "uH0XkygzHqIs"
      },
      "outputs": [],
      "source": [
        "estudantes = {\"Pedro\":24, \"Ana\":22, \"Ronaldo\":26, \"Janaina\":25}"
      ]
    },
    {
      "cell_type": "code",
      "execution_count": 46,
      "metadata": {
        "colab": {
          "base_uri": "https://localhost:8080/"
        },
        "id": "Gn0ScGvaHqIs",
        "outputId": "1fb4af15-39d1-4306-9b08-2b09afaf0176"
      },
      "outputs": [
        {
          "output_type": "execute_result",
          "data": {
            "text/plain": [
              "{'Pedro': 24, 'Ana': 22, 'Ronaldo': 26, 'Janaina': 25}"
            ]
          },
          "metadata": {},
          "execution_count": 46
        }
      ],
      "source": [
        "estudantes"
      ]
    },
    {
      "cell_type": "code",
      "execution_count": 47,
      "metadata": {
        "colab": {
          "base_uri": "https://localhost:8080/"
        },
        "id": "eWNBw6ODHqIs",
        "outputId": "b864bccd-4bcc-4fed-a244-6eb72dc9659a"
      },
      "outputs": [
        {
          "output_type": "execute_result",
          "data": {
            "text/plain": [
              "4"
            ]
          },
          "metadata": {},
          "execution_count": 47
        }
      ],
      "source": [
        "len(estudantes)"
      ]
    },
    {
      "cell_type": "code",
      "execution_count": 48,
      "metadata": {
        "colab": {
          "base_uri": "https://localhost:8080/"
        },
        "id": "cWY3qsuaHqIt",
        "outputId": "5a193b9c-61e0-4abc-e348-dca931ba925a"
      },
      "outputs": [
        {
          "output_type": "execute_result",
          "data": {
            "text/plain": [
              "dict_keys(['Pedro', 'Ana', 'Ronaldo', 'Janaina'])"
            ]
          },
          "metadata": {},
          "execution_count": 48
        }
      ],
      "source": [
        "estudantes.keys()"
      ]
    },
    {
      "cell_type": "code",
      "execution_count": 49,
      "metadata": {
        "colab": {
          "base_uri": "https://localhost:8080/"
        },
        "id": "cVxaYvX-HqIt",
        "outputId": "f56e559b-988b-4be3-dcbb-fc8b7ecb21e5"
      },
      "outputs": [
        {
          "output_type": "execute_result",
          "data": {
            "text/plain": [
              "dict_values([24, 22, 26, 25])"
            ]
          },
          "metadata": {},
          "execution_count": 49
        }
      ],
      "source": [
        "estudantes.values()"
      ]
    },
    {
      "cell_type": "code",
      "execution_count": 50,
      "metadata": {
        "colab": {
          "base_uri": "https://localhost:8080/"
        },
        "id": "ZNDivWqWHqIt",
        "outputId": "c13708be-8872-4aed-928e-9b990b6c5119"
      },
      "outputs": [
        {
          "output_type": "execute_result",
          "data": {
            "text/plain": [
              "dict_items([('Pedro', 24), ('Ana', 22), ('Ronaldo', 26), ('Janaina', 25)])"
            ]
          },
          "metadata": {},
          "execution_count": 50
        }
      ],
      "source": [
        "estudantes.items()"
      ]
    },
    {
      "cell_type": "code",
      "execution_count": 52,
      "metadata": {
        "id": "eX-3KcANHqIt"
      },
      "outputs": [],
      "source": [
        "estudantes2 = {\"Camila\":27, \"Adriana\":28, \"Roberta\":26}"
      ]
    },
    {
      "cell_type": "code",
      "execution_count": 53,
      "metadata": {
        "colab": {
          "base_uri": "https://localhost:8080/"
        },
        "id": "cdRTfnBHHqIt",
        "outputId": "b5246e07-d6f5-4ba0-b1f0-ff2fe42a6783"
      },
      "outputs": [
        {
          "output_type": "execute_result",
          "data": {
            "text/plain": [
              "{'Camila': 27, 'Adriana': 28, 'Roberta': 26}"
            ]
          },
          "metadata": {},
          "execution_count": 53
        }
      ],
      "source": [
        "estudantes2"
      ]
    },
    {
      "cell_type": "code",
      "execution_count": 55,
      "metadata": {
        "id": "PiOBWZ8wHqIu"
      },
      "outputs": [],
      "source": [
        "estudantes.update(estudantes2)"
      ]
    },
    {
      "cell_type": "code",
      "execution_count": 56,
      "metadata": {
        "colab": {
          "base_uri": "https://localhost:8080/"
        },
        "id": "SgRa4jdDHqIu",
        "outputId": "d4bc6f53-342f-4726-e60a-1fa8cb5b2c07"
      },
      "outputs": [
        {
          "output_type": "execute_result",
          "data": {
            "text/plain": [
              "{'Pedro': 24,\n",
              " 'Ana': 22,\n",
              " 'Ronaldo': 26,\n",
              " 'Janaina': 25,\n",
              " 'Camila': 27,\n",
              " 'Adriana': 28,\n",
              " 'Roberta': 26}"
            ]
          },
          "metadata": {},
          "execution_count": 56
        }
      ],
      "source": [
        "estudantes"
      ]
    },
    {
      "cell_type": "code",
      "execution_count": 57,
      "metadata": {
        "id": "NJe8t1i0HqIu"
      },
      "outputs": [],
      "source": [
        "dic1 = {}"
      ]
    },
    {
      "cell_type": "code",
      "execution_count": 58,
      "metadata": {
        "colab": {
          "base_uri": "https://localhost:8080/"
        },
        "id": "a0na85ZkHqIv",
        "outputId": "2a9e9802-1332-4905-879d-a51c84277008"
      },
      "outputs": [
        {
          "output_type": "execute_result",
          "data": {
            "text/plain": [
              "{}"
            ]
          },
          "metadata": {},
          "execution_count": 58
        }
      ],
      "source": [
        "dic1"
      ]
    },
    {
      "cell_type": "code",
      "execution_count": 59,
      "metadata": {
        "id": "bzeSYfQQHqIv"
      },
      "outputs": [],
      "source": [
        "dic1[\"chave_um\"] = 2"
      ]
    },
    {
      "cell_type": "code",
      "execution_count": 60,
      "metadata": {
        "colab": {
          "base_uri": "https://localhost:8080/"
        },
        "id": "RdTmT8FBHqIv",
        "outputId": "0a22427e-95ef-4f5e-fb5c-bafa81b6a111"
      },
      "outputs": [
        {
          "output_type": "stream",
          "name": "stdout",
          "text": [
            "{'chave_um': 2}\n"
          ]
        }
      ],
      "source": [
        "print(dic1)"
      ]
    },
    {
      "cell_type": "code",
      "execution_count": 61,
      "metadata": {
        "id": "lEAmKD8KHqIw"
      },
      "outputs": [],
      "source": [
        "dic1[10] = 5"
      ]
    },
    {
      "cell_type": "code",
      "execution_count": 63,
      "metadata": {
        "colab": {
          "base_uri": "https://localhost:8080/"
        },
        "id": "DWCqLz4PHqIw",
        "outputId": "2b3ef880-e751-41bd-929d-d97ae9c29090"
      },
      "outputs": [
        {
          "output_type": "execute_result",
          "data": {
            "text/plain": [
              "{'chave_um': 2, 10: 5}"
            ]
          },
          "metadata": {},
          "execution_count": 63
        }
      ],
      "source": [
        "dic1"
      ]
    },
    {
      "cell_type": "code",
      "execution_count": 64,
      "metadata": {
        "id": "PJlUNGN2HqIy"
      },
      "outputs": [],
      "source": [
        "dic1[9.13] = \"Python\""
      ]
    },
    {
      "cell_type": "code",
      "execution_count": 65,
      "metadata": {
        "colab": {
          "base_uri": "https://localhost:8080/"
        },
        "id": "nhbb6HH5HqIz",
        "outputId": "fe2aadd8-c373-4fc0-96ce-7e46c42312f2"
      },
      "outputs": [
        {
          "output_type": "execute_result",
          "data": {
            "text/plain": [
              "{'chave_um': 2, 10: 5, 9.13: 'Python'}"
            ]
          },
          "metadata": {},
          "execution_count": 65
        }
      ],
      "source": [
        "dic1"
      ]
    },
    {
      "cell_type": "code",
      "execution_count": 66,
      "metadata": {
        "id": "zhonkXspHqI0"
      },
      "outputs": [],
      "source": [
        "dic1[\"teste\"] = 5"
      ]
    },
    {
      "cell_type": "code",
      "execution_count": 67,
      "metadata": {
        "colab": {
          "base_uri": "https://localhost:8080/"
        },
        "id": "5RIWI1hXHqI0",
        "outputId": "e61503b1-9b26-4037-b799-3d06f4495ad5"
      },
      "outputs": [
        {
          "output_type": "execute_result",
          "data": {
            "text/plain": [
              "{'chave_um': 2, 10: 5, 9.13: 'Python', 'teste': 5}"
            ]
          },
          "metadata": {},
          "execution_count": 67
        }
      ],
      "source": [
        "dic1"
      ]
    },
    {
      "cell_type": "code",
      "execution_count": 68,
      "metadata": {
        "id": "WrWxbhzIHqI0"
      },
      "outputs": [],
      "source": [
        "dict1 = {}"
      ]
    },
    {
      "cell_type": "code",
      "execution_count": 69,
      "metadata": {
        "colab": {
          "base_uri": "https://localhost:8080/"
        },
        "id": "pzS-W3KYHqI1",
        "outputId": "a36db938-c2d1-4b7b-dcf8-11c6040c297b"
      },
      "outputs": [
        {
          "output_type": "execute_result",
          "data": {
            "text/plain": [
              "{}"
            ]
          },
          "metadata": {},
          "execution_count": 69
        }
      ],
      "source": [
        "dict1"
      ]
    },
    {
      "cell_type": "code",
      "execution_count": 71,
      "metadata": {
        "id": "NFBBbdbiHqI1"
      },
      "outputs": [],
      "source": [
        "dict1[\"teste\"] = 10"
      ]
    },
    {
      "cell_type": "code",
      "execution_count": 72,
      "metadata": {
        "id": "dXasJ4X_HqI1"
      },
      "outputs": [],
      "source": [
        "dict1[\"key\"] = \"teste\""
      ]
    },
    {
      "cell_type": "code",
      "execution_count": 76,
      "metadata": {
        "colab": {
          "base_uri": "https://localhost:8080/"
        },
        "id": "W5Ng5cjEHqI2",
        "outputId": "9bbd9980-9aea-4dca-c27a-610162a4adf8"
      },
      "outputs": [
        {
          "output_type": "execute_result",
          "data": {
            "text/plain": [
              "{'teste': 10, 'key': 'teste'}"
            ]
          },
          "metadata": {},
          "execution_count": 76
        }
      ],
      "source": [
        "# Atenção, pois chave e valor podem ser iguais, mas representam coisas diferentes.\n",
        "dict1"
      ]
    },
    {
      "cell_type": "code",
      "execution_count": 77,
      "metadata": {
        "id": "EAaaaEiMHqI2"
      },
      "outputs": [],
      "source": [
        "dict2 = {}"
      ]
    },
    {
      "cell_type": "code",
      "execution_count": 78,
      "metadata": {
        "id": "FPRWfsIGHqI2"
      },
      "outputs": [],
      "source": [
        "dict2[\"key1\"] = \"Data Science\""
      ]
    },
    {
      "cell_type": "code",
      "execution_count": 79,
      "metadata": {
        "id": "CjBciyx5HqI2"
      },
      "outputs": [],
      "source": [
        "dict2[\"key2\"] = 10"
      ]
    },
    {
      "cell_type": "code",
      "execution_count": 80,
      "metadata": {
        "id": "YIRkyKQlHqI3"
      },
      "outputs": [],
      "source": [
        "dict2[\"key3\"] = 100"
      ]
    },
    {
      "cell_type": "code",
      "execution_count": 81,
      "metadata": {
        "colab": {
          "base_uri": "https://localhost:8080/"
        },
        "id": "SO0-PGzeHqI3",
        "outputId": "adb2db67-464f-4254-ec49-3eafaece9417"
      },
      "outputs": [
        {
          "output_type": "execute_result",
          "data": {
            "text/plain": [
              "{'key1': 'Data Science', 'key2': 10, 'key3': 100}"
            ]
          },
          "metadata": {},
          "execution_count": 81
        }
      ],
      "source": [
        "dict2"
      ]
    },
    {
      "cell_type": "code",
      "execution_count": 82,
      "metadata": {
        "id": "CVzgKKDAHqI3"
      },
      "outputs": [],
      "source": [
        "a = dict2[\"key1\"]"
      ]
    },
    {
      "cell_type": "code",
      "execution_count": 83,
      "metadata": {
        "id": "CVrrQs5ZHqI3"
      },
      "outputs": [],
      "source": [
        "b = dict2[\"key2\"]"
      ]
    },
    {
      "cell_type": "code",
      "execution_count": 84,
      "metadata": {
        "id": "n7LppLdAHqI4"
      },
      "outputs": [],
      "source": [
        "c = dict2[\"key3\"]"
      ]
    },
    {
      "cell_type": "code",
      "execution_count": 85,
      "metadata": {
        "colab": {
          "base_uri": "https://localhost:8080/"
        },
        "id": "RAtiaXpvHqI4",
        "outputId": "f3544089-4bcc-43a3-b3d9-bf62a797b72a"
      },
      "outputs": [
        {
          "output_type": "execute_result",
          "data": {
            "text/plain": [
              "('Data Science', 10, 100)"
            ]
          },
          "metadata": {},
          "execution_count": 85
        }
      ],
      "source": [
        "a, b, c"
      ]
    },
    {
      "cell_type": "code",
      "execution_count": 87,
      "metadata": {
        "id": "7DJ8cX1mHqI4"
      },
      "outputs": [],
      "source": [
        "# Dicionário de listas\n",
        "dict3 = {'chave1':1230, 'chave2':[22,453,73.4], 'chave3':['picanha', 'fraldinha', 'alcatra']}"
      ]
    },
    {
      "cell_type": "code",
      "execution_count": 88,
      "metadata": {
        "colab": {
          "base_uri": "https://localhost:8080/"
        },
        "id": "2QgNOm_YHqI5",
        "outputId": "8563c0e7-3a10-45e9-c4d9-5bee986976da"
      },
      "outputs": [
        {
          "output_type": "execute_result",
          "data": {
            "text/plain": [
              "{'chave1': 1230,\n",
              " 'chave2': [22, 453, 73.4],\n",
              " 'chave3': ['picanha', 'fraldinha', 'alcatra']}"
            ]
          },
          "metadata": {},
          "execution_count": 88
        }
      ],
      "source": [
        "dict3"
      ]
    },
    {
      "cell_type": "code",
      "execution_count": 89,
      "metadata": {
        "colab": {
          "base_uri": "https://localhost:8080/"
        },
        "id": "8rj5Cll2HqI5",
        "outputId": "8bd88dcb-ef00-4783-f113-66f23b967121"
      },
      "outputs": [
        {
          "output_type": "execute_result",
          "data": {
            "text/plain": [
              "[22, 453, 73.4]"
            ]
          },
          "metadata": {},
          "execution_count": 89
        }
      ],
      "source": [
        "dict3['chave2']"
      ]
    },
    {
      "cell_type": "code",
      "execution_count": 90,
      "metadata": {
        "colab": {
          "base_uri": "https://localhost:8080/",
          "height": 36
        },
        "id": "U4x--4RyHqI5",
        "outputId": "500fd0ba-8b2d-41bc-d010-fef2bb573c75"
      },
      "outputs": [
        {
          "output_type": "execute_result",
          "data": {
            "text/plain": [
              "'PICANHA'"
            ],
            "application/vnd.google.colaboratory.intrinsic+json": {
              "type": "string"
            }
          },
          "metadata": {},
          "execution_count": 90
        }
      ],
      "source": [
        "# Acessando um item da lista, dentro do dicionário\n",
        "dict3['chave3'][0].upper()"
      ]
    },
    {
      "cell_type": "code",
      "execution_count": 91,
      "metadata": {
        "id": "xGW04WoWHqI6"
      },
      "outputs": [],
      "source": [
        "# Operações com itens da lista, dentro do dicionário\n",
        "var1 = dict3['chave2'][0] - 2"
      ]
    },
    {
      "cell_type": "code",
      "execution_count": 92,
      "metadata": {
        "colab": {
          "base_uri": "https://localhost:8080/"
        },
        "id": "vGsaGpDnHqI6",
        "outputId": "182446f9-2261-4f9b-b1b0-ade5f5c26ec4"
      },
      "outputs": [
        {
          "output_type": "execute_result",
          "data": {
            "text/plain": [
              "20"
            ]
          },
          "metadata": {},
          "execution_count": 92
        }
      ],
      "source": [
        "var1"
      ]
    },
    {
      "cell_type": "code",
      "execution_count": 94,
      "metadata": {
        "id": "W2laYDWKHqI7"
      },
      "outputs": [],
      "source": [
        "# Duas operações no mesmo comando, para atualizar um item dentro da lista\n",
        "dict3['chave2'][0] -= 2"
      ]
    },
    {
      "cell_type": "code",
      "execution_count": 95,
      "metadata": {
        "colab": {
          "base_uri": "https://localhost:8080/"
        },
        "id": "w-STY9bFHqI7",
        "outputId": "580cc2d4-16c9-40be-88d1-a40bf1121a18"
      },
      "outputs": [
        {
          "output_type": "execute_result",
          "data": {
            "text/plain": [
              "{'chave1': 1230,\n",
              " 'chave2': [18, 453, 73.4],\n",
              " 'chave3': ['picanha', 'fraldinha', 'alcatra']}"
            ]
          },
          "metadata": {},
          "execution_count": 95
        }
      ],
      "source": [
        "dict3"
      ]
    },
    {
      "cell_type": "markdown",
      "metadata": {
        "id": "Xo410slaHqI8"
      },
      "source": [
        "#### Criando Dicionários Aninhados"
      ]
    },
    {
      "cell_type": "code",
      "execution_count": 97,
      "metadata": {
        "id": "CSZ3K2wiHqI8"
      },
      "outputs": [],
      "source": [
        "# Criando dicionários aninhados\n",
        "dict_aninhado = {'key1':{'key2_aninhada':{'key3_aninhada':'Dict aninhado em Python'}}}"
      ]
    },
    {
      "cell_type": "code",
      "execution_count": 98,
      "metadata": {
        "colab": {
          "base_uri": "https://localhost:8080/"
        },
        "id": "ip2c_eIoHqI9",
        "outputId": "8a9b4d5d-5758-4aab-d624-64ff298ef73c"
      },
      "outputs": [
        {
          "output_type": "execute_result",
          "data": {
            "text/plain": [
              "{'key1': {'key2_aninhada': {'key3_aninhada': 'Dict aninhado em Python'}}}"
            ]
          },
          "metadata": {},
          "execution_count": 98
        }
      ],
      "source": [
        "dict_aninhado"
      ]
    },
    {
      "cell_type": "code",
      "execution_count": 99,
      "metadata": {
        "colab": {
          "base_uri": "https://localhost:8080/",
          "height": 36
        },
        "id": "nQ1SnDD3HqI9",
        "outputId": "18924d3f-33d3-463a-cd3a-b8137c67eefe"
      },
      "outputs": [
        {
          "output_type": "execute_result",
          "data": {
            "text/plain": [
              "'Dict aninhado em Python'"
            ],
            "application/vnd.google.colaboratory.intrinsic+json": {
              "type": "string"
            }
          },
          "metadata": {},
          "execution_count": 99
        }
      ],
      "source": [
        "dict_aninhado['key1']['key2_aninhada']['key3_aninhada']"
      ]
    },
    {
      "cell_type": "markdown",
      "metadata": {
        "id": "oTuLmCNuHqI-"
      },
      "source": [
        "### Funções Built-in"
      ]
    },
    {
      "cell_type": "markdown",
      "metadata": {
        "id": "t1OilZUlHqI-"
      },
      "source": [
        "![Dicionários](dict.jpg)"
      ]
    },
    {
      "cell_type": "code",
      "source": [],
      "metadata": {
        "id": "m4-fGGB9Tcw6"
      },
      "execution_count": null,
      "outputs": []
    },
    {
      "cell_type": "markdown",
      "metadata": {
        "id": "JrGbOw41HqJG"
      },
      "source": [
        "## <font color='blue'>EXERCÍCIOS...</font>\n",
        "---\n",
        "### Exercícios sobre Listas"
      ]
    },
    {
      "cell_type": "markdown",
      "metadata": {
        "id": "D0yIvBnJHqJG"
      },
      "source": [
        "1. Faça um algoritmo que carregue um vetor de 5 elementos numéricos inteiros. Após a finalização da entrada, o algoritmo deve escrever o mesmo vetor, na ordem inversa de entrada."
      ]
    },
    {
      "cell_type": "code",
      "execution_count": 102,
      "metadata": {
        "colab": {
          "base_uri": "https://localhost:8080/"
        },
        "id": "nQ_8EqaXHqJH",
        "outputId": "d7d9e77b-eccc-4146-92ca-b5ec7e499091"
      },
      "outputs": [
        {
          "output_type": "stream",
          "name": "stdout",
          "text": [
            "Digite o valor 1: 1\n",
            "Digite o valor 2: 2\n",
            "Digite o valor 3: 3\n",
            "Digite o valor 4: 4\n",
            "Digite o valor 5: 5\n",
            "lista inversa:  [5, 4, 3, 2, 1]\n"
          ]
        }
      ],
      "source": [
        "lista = []\n",
        "for i in range (5):\n",
        "  n = int(input(f\"Digite o valor {i+1}: \"))\n",
        "  lista.append(n)\n",
        "\n",
        "print (\"lista inversa: \", lista [:: -1])\n"
      ]
    },
    {
      "cell_type": "markdown",
      "metadata": {
        "id": "hnR7NZZ8HqJI"
      },
      "source": [
        "2. Faça um algorimto que carregue um vetor de 5 elementos numéricos inteiros. Após a finalização da entrada, o algoritmo deve escrever o maior valor e sua posição.\n"
      ]
    },
    {
      "cell_type": "code",
      "source": [
        "lista = []\n",
        "for i in range (5):\n",
        "  n = int(input(f\"Digite o valor {i+1}: \"))\n",
        "  lista.append(n)\n",
        "maior = max(lista)\n",
        "indice = lista.index(maior)\n",
        "\n",
        "print(f\"O maior valor é {maior} e seu índice é {indice}!\")\n"
      ],
      "metadata": {
        "colab": {
          "base_uri": "https://localhost:8080/"
        },
        "id": "HWJblTctV7KQ",
        "outputId": "1670c8a4-567b-4998-b4fe-1ecb9779da9a"
      },
      "execution_count": 103,
      "outputs": [
        {
          "output_type": "stream",
          "name": "stdout",
          "text": [
            "Digite o valor 1: 1\n",
            "Digite o valor 2: 2\n",
            "Digite o valor 3: 3\n",
            "Digite o valor 4: 4\n",
            "Digite o valor 5: 5\n",
            "O maior valor é 5 e seu índice é 4!\n"
          ]
        }
      ]
    },
    {
      "cell_type": "markdown",
      "metadata": {
        "id": "oQ51raABHqJI"
      },
      "source": [
        "3. Faça algoritmo que carregue dois vetores (listas) de cinco elementos numéricos cada um e mostre um vetor resultante na intercalação desses dois vetores"
      ]
    },
    {
      "cell_type": "code",
      "execution_count": 106,
      "metadata": {
        "colab": {
          "base_uri": "https://localhost:8080/"
        },
        "id": "8T0jWLdHHqJJ",
        "outputId": "4edda862-1d2a-409e-8a33-7b73c96052a3"
      },
      "outputs": [
        {
          "output_type": "stream",
          "name": "stdout",
          "text": [
            "Digite o valor 1: 1\n",
            "Digite o valor 2: 2\n",
            "Digite o valor 3: 3\n",
            "Digite o valor 4: 4\n",
            "Digite o valor 5: 5\n",
            "Digite o valor 1: 11\n",
            "Digite o valor 2: 22\n",
            "Digite o valor 3: 33\n",
            "Digite o valor 4: 44\n",
            "Digite o valor 5: 55\n",
            "Lista1:  [1, 2, 3, 4, 5]\n",
            "Lista2:  [11, 22, 33, 44, 55]\n",
            "Lista3:  [1, 11, 2, 22, 3, 33, 4, 44, 5, 55]\n"
          ]
        }
      ],
      "source": [
        "l1 = []\n",
        "l2 = []\n",
        "l3 = []\n",
        "for i in range (5):\n",
        "  n = int(input(f\"Digite o valor {i+1}: \"))\n",
        "  l1.append(n)\n",
        "for i in range (5):\n",
        "  n = int(input(f\"Digite o valor {i+1}: \"))\n",
        "  l2.append(n)\n",
        "for i in range (5):\n",
        "  l3.append(l1[i])\n",
        "  l3.append(l2[i])\n",
        "print('Lista1: ', l1)\n",
        "print('Lista2: ', l2)\n",
        "print('Lista3: ', l3)"
      ]
    },
    {
      "cell_type": "code",
      "execution_count": 107,
      "metadata": {
        "colab": {
          "base_uri": "https://localhost:8080/"
        },
        "id": "Q9nmCFVyHqJJ",
        "outputId": "826eb0d9-5697-4515-e1ed-d0abe58df977"
      },
      "outputs": [
        {
          "output_type": "stream",
          "name": "stdout",
          "text": [
            "37\n"
          ]
        }
      ],
      "source": [
        "# Exemplo de geração de números aleatórios (randômicos) entre 1 e 60\n",
        "from random import randint\n",
        "a = randint(1, 60)\n",
        "print(a)"
      ]
    },
    {
      "cell_type": "code",
      "execution_count": 108,
      "metadata": {
        "colab": {
          "base_uri": "https://localhost:8080/"
        },
        "id": "E0klPazhHqJJ",
        "outputId": "a69f033d-f8a1-4f09-eada-b0d80908b4db"
      },
      "outputs": [
        {
          "output_type": "stream",
          "name": "stdout",
          "text": [
            "5 5 6 3 6 4 6 5 1 5 "
          ]
        }
      ],
      "source": [
        "# Exemplo de geração de 10 jogadas de dados\n",
        "from random import randint\n",
        "# Gerando 10 jogadas\n",
        "for i in range (10):\n",
        "    lado = randint(1, 6)\n",
        "    print(lado, end=\" \")"
      ]
    },
    {
      "cell_type": "markdown",
      "metadata": {
        "id": "Uf_nAyL5HqJK"
      },
      "source": [
        "4. Faça um Algoritmo que simule 6000 jogadas de um dado de 6 faces. Para simular o resultado utilize a função randint  Ao final, mostre a frequência de sorteio de cada uma das faces  \n"
      ]
    },
    {
      "cell_type": "code",
      "execution_count": 117,
      "metadata": {
        "colab": {
          "base_uri": "https://localhost:8080/"
        },
        "id": "inpNuga6HqJK",
        "outputId": "0e70aabb-e473-4e96-9e13-ba267d60dd57"
      },
      "outputs": [
        {
          "output_type": "stream",
          "name": "stdout",
          "text": [
            "1023 1015 981 968 953 1060\n",
            "17.05\n",
            "16.916666666666664\n",
            "16.35\n"
          ]
        }
      ],
      "source": [
        "jogadas = []\n",
        "for i in range (6000):\n",
        "  lado = randint(1,6)\n",
        "  jogadas.append(lado)\n",
        "\n",
        "lado1= jogadas.count(1)\n",
        "lado2= jogadas.count(2)\n",
        "lado3= jogadas.count(3)\n",
        "lado4= jogadas.count(4)\n",
        "lado5= jogadas.count(5)\n",
        "lado6= jogadas.count(6)\n",
        "\n",
        "print(lado1, lado2, lado3, lado4, lado5, lado6)\n",
        "\n",
        "\n",
        "#percentual\n",
        "plado1 = (lado1/6000)*100\n",
        "print(plado1)\n",
        "\n",
        "plado2 = (lado2/6000)*100\n",
        "print(plado2)\n",
        "\n",
        "plado3 = (lado3/6000)*100\n",
        "print(plado3)"
      ]
    },
    {
      "cell_type": "markdown",
      "metadata": {
        "id": "jVP8agKzHqJL"
      },
      "source": [
        "5. Faça um algoritmo que simule a jogada de dois dados de 6 faces. O programa deve usar randint para rolar o primeiro dado e deve usar randint novamente para rolar o segundo dado. A soma das duas faces deve ser calculada. Assim: a soma variará de 2 a 12. O programa deve rolar 30.000 vezes e mostrar a frequência com que a soma (de 2 a 12) aparecem.  Verifique se o valor 7 corresponde a 1/6 das jogadas!\n"
      ]
    },
    {
      "cell_type": "code",
      "execution_count": 121,
      "metadata": {
        "colab": {
          "base_uri": "https://localhost:8080/",
          "height": 222
        },
        "id": "3Yowvx-7HqJL",
        "outputId": "7150e153-d9c1-4574-be60-12447a2bbac5"
      },
      "outputs": [
        {
          "output_type": "error",
          "ename": "IndexError",
          "evalue": "list index out of range",
          "traceback": [
            "\u001b[0;31m---------------------------------------------------------------------------\u001b[0m",
            "\u001b[0;31mIndexError\u001b[0m                                Traceback (most recent call last)",
            "\u001b[0;32m<ipython-input-121-a3562a7a9df5>\u001b[0m in \u001b[0;36m<cell line: 3>\u001b[0;34m()\u001b[0m\n\u001b[1;32m      5\u001b[0m   \u001b[0mdado2\u001b[0m \u001b[0;34m=\u001b[0m \u001b[0mrandint\u001b[0m\u001b[0;34m(\u001b[0m\u001b[0;36m1\u001b[0m\u001b[0;34m,\u001b[0m \u001b[0;36m6\u001b[0m\u001b[0;34m)\u001b[0m\u001b[0;34m\u001b[0m\u001b[0;34m\u001b[0m\u001b[0m\n\u001b[1;32m      6\u001b[0m   \u001b[0msoma\u001b[0m \u001b[0;34m=\u001b[0m \u001b[0mdado1\u001b[0m \u001b[0;34m+\u001b[0m \u001b[0mdado2\u001b[0m\u001b[0;34m\u001b[0m\u001b[0;34m\u001b[0m\u001b[0m\n\u001b[0;32m----> 7\u001b[0;31m   \u001b[0mjogadas\u001b[0m\u001b[0;34m[\u001b[0m\u001b[0msoma\u001b[0m\u001b[0;34m]\u001b[0m \u001b[0;34m+=\u001b[0m \u001b[0;36m1\u001b[0m\u001b[0;34m\u001b[0m\u001b[0;34m\u001b[0m\u001b[0m\n\u001b[0m\u001b[1;32m      8\u001b[0m \u001b[0;34m\u001b[0m\u001b[0m\n\u001b[1;32m      9\u001b[0m \u001b[0;32mfor\u001b[0m \u001b[0mi\u001b[0m \u001b[0;32min\u001b[0m \u001b[0mrange\u001b[0m \u001b[0;34m(\u001b[0m\u001b[0;36m2\u001b[0m\u001b[0;34m,\u001b[0m \u001b[0;36m13\u001b[0m\u001b[0;34m)\u001b[0m\u001b[0;34m:\u001b[0m\u001b[0;34m\u001b[0m\u001b[0;34m\u001b[0m\u001b[0m\n",
            "\u001b[0;31mIndexError\u001b[0m: list index out of range"
          ]
        }
      ],
      "source": [
        "jogadas = [0,0,0,0,0,0,0,0,0,0,0,0]\n",
        "percentual = [0,0,0,0,0,0,0,0,0,0,0,0]\n",
        "for i in range (30000):\n",
        "  dado1 = randint(1, 6)\n",
        "  dado2 = randint(1, 6)\n",
        "  soma = dado1 + dado2\n",
        "  jogadas[soma] += 1\n",
        "\n",
        "for i in range (2, 13):\n",
        "  percentual[i] = (jogadas[i]/30000)*100\n",
        "\n",
        "for i in range (2, 13):\n",
        "  print(f\"{i} - {jogadas[i]} - {percentual[i]:.2f}%\")"
      ]
    },
    {
      "cell_type": "markdown",
      "metadata": {
        "id": "RP2w8FEXHqJL"
      },
      "source": [
        "6. Faça um algoritmo que leia uma matriz 2x2 e imprima os seus elementos na ordem:\n",
        "\n",
        "1,1 =\n",
        "\n",
        "1,2 =\n",
        "\n",
        "2,1 =\n",
        "\n",
        "2,2 =\n",
        "\n",
        "Obs: linha, coluna\n"
      ]
    },
    {
      "cell_type": "code",
      "execution_count": 123,
      "metadata": {
        "colab": {
          "base_uri": "https://localhost:8080/"
        },
        "id": "zcDFejaMHqJM",
        "outputId": "4c2cca2c-aa1f-4a27-a8bb-1a249ad9843a"
      },
      "outputs": [
        {
          "output_type": "stream",
          "name": "stdout",
          "text": [
            "Digite o valor (0, 0)2\n",
            "Digite o valor (0, 1)5\n",
            "Digite o valor (1, 0)3\n",
            "Digite o valor (1, 1)4\n",
            "[[2, 5], [3, 4]]\n"
          ]
        }
      ],
      "source": [
        "linha = []\n",
        "matriz = []\n",
        "for i in range (2):\n",
        "  for j in range (2):\n",
        "    x = int(input(f\"Digite o valor ({i}, {j})\"))\n",
        "    linha.append(x)\n",
        "  matriz.append(linha)\n",
        "  linha = []\n",
        "\n",
        "print(matriz)"
      ]
    },
    {
      "cell_type": "markdown",
      "metadata": {
        "id": "adzBOkUSHqJM"
      },
      "source": [
        "7. Faça um algoritmo que leia os dados de uma matriz de 4 linhas e 4 colunas, composta de elementos reais, e calcule a soma dos elementos da diagonal principal da matriz."
      ]
    },
    {
      "cell_type": "code",
      "execution_count": null,
      "metadata": {
        "id": "sIz5zcsCHqJM"
      },
      "outputs": [],
      "source": []
    },
    {
      "cell_type": "markdown",
      "metadata": {
        "id": "Uzlwn1NIHqJM"
      },
      "source": [
        "8. Faça um algoritmo que receba uma matriz de 5x5 com números reais. Ao final o algoritmo deve calcular e mostrar a média dos elementos que estão nas linhas pares da matriz."
      ]
    },
    {
      "cell_type": "code",
      "execution_count": null,
      "metadata": {
        "id": "63Wqn7gEHqJM"
      },
      "outputs": [],
      "source": []
    },
    {
      "cell_type": "markdown",
      "metadata": {
        "id": "1qwyTEInHqJN"
      },
      "source": [
        "### Exercícios sobre Tuplas"
      ]
    },
    {
      "cell_type": "markdown",
      "metadata": {
        "id": "6gUq_5CyHqJN"
      },
      "source": [
        "9. Faça um algoritmo que armazenará os 10 primeiros números primos acima de 100 em uma trupla. Ao final, o algoritmo deve mostrar os valores dessa estrutura de dados.\n"
      ]
    },
    {
      "cell_type": "markdown",
      "source": [
        "### Exercício para trabalhar com tuplas"
      ],
      "metadata": {
        "id": "Mj-eJa5zq6v9"
      }
    },
    {
      "cell_type": "code",
      "execution_count": 124,
      "metadata": {
        "colab": {
          "base_uri": "https://localhost:8080/"
        },
        "id": "H1qm4GCIHqJQ",
        "outputId": "efc9633d-2c3d-4747-ad31-c2243e73a45d"
      },
      "outputs": [
        {
          "output_type": "stream",
          "name": "stdout",
          "text": [
            "Digite o valor 1: 1\n",
            "Digite o valor 2: 2\n",
            "Digite o valor 3: 3\n",
            "Digite o valor 4: 4\n",
            "Digite o valor 5: 5\n",
            "[1, 2, 3, 4, 5]\n",
            "(1, 2, 3, 4, 5)\n"
          ]
        }
      ],
      "source": [
        "lista = []\n",
        "for i in range(5):\n",
        "  n = int(input(f\"Digite o valor {i+1}: \"))\n",
        "  lista.append(n)\n",
        "\n",
        "t = tuple(lista)\n",
        "print(lista)\n",
        "print(t2)"
      ]
    },
    {
      "cell_type": "code",
      "execution_count": null,
      "metadata": {
        "id": "jr8wBQbSHqJQ"
      },
      "outputs": [],
      "source": []
    },
    {
      "cell_type": "markdown",
      "metadata": {
        "id": "hsCIxTiAHqJQ"
      },
      "source": [
        "### Exercícios sobre Dicionários"
      ]
    },
    {
      "cell_type": "markdown",
      "metadata": {
        "id": "ml9Sc9vrHqJQ"
      },
      "source": [
        "10. Faça um algoritmo que carregue um dicionário de 5 elementos onde a chave é o sobrenome da pessoa e o valor a sua idade.\n",
        "Após a finalização da entrada, o algoritmo deve escrever o sobrenome da pessoa com maior idade."
      ]
    },
    {
      "cell_type": "code",
      "execution_count": 131,
      "metadata": {
        "colab": {
          "base_uri": "https://localhost:8080/"
        },
        "id": "JwIba9KvHqJR",
        "outputId": "0fed1030-ef46-461a-8e4e-ef6e4d298227"
      },
      "outputs": [
        {
          "output_type": "stream",
          "name": "stdout",
          "text": [
            "Digite o nome 1: A\n",
            "Digite a idade 1: 12\n",
            "Digite o nome 2: B\n",
            "Digite a idade 2: 13\n",
            "Digite o nome 3: C\n",
            "Digite a idade 3: 23\n",
            "Digite o nome 4: D\n",
            "Digite a idade 4: 45\n",
            "Digite o nome 5: E\n",
            "Digite a idade 5: 32\n",
            "A pessoa com maior idade é D com 45 anos!\n"
          ]
        }
      ],
      "source": [
        "d = {}\n",
        "for i in range(5):\n",
        "  nome = input(f\"Digite o nome {i+1}: \")\n",
        "  idade = int(input (f\"Digite a idade {i+1}: \"))\n",
        "  d[nome] = idade\n",
        "maior = 0\n",
        "nome_maior = ''\n",
        "for k, v in d.items():\n",
        "  if v > maior:\n",
        "    maior = v\n",
        "    nome_maior = k\n",
        "\n",
        "print(f\"A pessoa com maior idade é {nome_maior} com {maior} anos!\")\n",
        "\n"
      ]
    },
    {
      "cell_type": "markdown",
      "metadata": {
        "id": "k2YPbSC_HqJR"
      },
      "source": [
        "11. Faça um algoritmo que carregue um dicionário contendo nome e idade (pelo menos 5 pares). Depois de carregar, mostre todos os nomes que tenham idade maior que a média das idades."
      ]
    },
    {
      "cell_type": "code",
      "execution_count": null,
      "metadata": {
        "id": "KaIuCRRSHqJR"
      },
      "outputs": [],
      "source": []
    },
    {
      "cell_type": "markdown",
      "metadata": {
        "id": "pKFUJLrhHqJR"
      },
      "source": [
        "12. Faça algoritmo que carregue duas listas de cinco elementos numéricos inteiros cada um. A partir dessas duas listas, crie um conjunto da união entre essas duas listas."
      ]
    },
    {
      "cell_type": "code",
      "execution_count": null,
      "metadata": {
        "id": "fuB1hDDkHqJR"
      },
      "outputs": [],
      "source": []
    },
    {
      "cell_type": "markdown",
      "metadata": {
        "id": "PfJQUDYiHqJR"
      },
      "source": [
        "## FIM"
      ]
    }
  ],
  "metadata": {
    "anaconda-cloud": {},
    "kernelspec": {
      "display_name": "Python 3 (ipykernel)",
      "language": "python",
      "name": "python3"
    },
    "language_info": {
      "codemirror_mode": {
        "name": "ipython",
        "version": 3
      },
      "file_extension": ".py",
      "mimetype": "text/x-python",
      "name": "python",
      "nbconvert_exporter": "python",
      "pygments_lexer": "ipython3",
      "version": "3.11.5"
    },
    "colab": {
      "provenance": []
    }
  },
  "nbformat": 4,
  "nbformat_minor": 0
}