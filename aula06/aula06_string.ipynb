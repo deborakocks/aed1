{
 "cells": [
  {
   "cell_type": "code",
   "execution_count": 1,
   "id": "fc831dcb",
   "metadata": {},
   "outputs": [
    {
     "name": "stdout",
     "output_type": "stream",
     "text": [
      "Debora\n"
     ]
    }
   ],
   "source": [
    "nome = 'Debora'\n",
    "print(nome)"
   ]
  },
  {
   "cell_type": "code",
   "execution_count": 2,
   "id": "c0a4fbaf",
   "metadata": {},
   "outputs": [
    {
     "name": "stdout",
     "output_type": "stream",
     "text": [
      "Meu nome é Debora\n"
     ]
    }
   ],
   "source": [
    "print('Meu nome é', nome)"
   ]
  },
  {
   "cell_type": "code",
   "execution_count": 3,
   "id": "a124c725",
   "metadata": {},
   "outputs": [
    {
     "name": "stdout",
     "output_type": "stream",
     "text": [
      "D\n"
     ]
    }
   ],
   "source": [
    "print (nome[0])"
   ]
  },
  {
   "cell_type": "code",
   "execution_count": 4,
   "id": "3daf64f2",
   "metadata": {},
   "outputs": [
    {
     "name": "stdout",
     "output_type": "stream",
     "text": [
      "o\n"
     ]
    }
   ],
   "source": [
    "print (nome[3])"
   ]
  },
  {
   "cell_type": "code",
   "execution_count": 6,
   "id": "370e2c56",
   "metadata": {},
   "outputs": [
    {
     "name": "stdout",
     "output_type": "stream",
     "text": [
      "<class 'str'>\n"
     ]
    }
   ],
   "source": [
    "print(type(nome))"
   ]
  },
  {
   "cell_type": "code",
   "execution_count": null,
   "id": "74f6271a",
   "metadata": {},
   "outputs": [],
   "source": []
  }
 ],
 "metadata": {
  "kernelspec": {
   "display_name": "Python 3 (ipykernel)",
   "language": "python",
   "name": "python3"
  },
  "language_info": {
   "codemirror_mode": {
    "name": "ipython",
    "version": 3
   },
   "file_extension": ".py",
   "mimetype": "text/x-python",
   "name": "python",
   "nbconvert_exporter": "python",
   "pygments_lexer": "ipython3",
   "version": "3.11.5"
  }
 },
 "nbformat": 4,
 "nbformat_minor": 5
}
