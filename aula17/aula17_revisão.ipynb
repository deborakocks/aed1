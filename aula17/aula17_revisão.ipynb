{
 "cells": [
  {
   "cell_type": "markdown",
   "id": "7d157912-0a19-4b2b-8505-656203beb64a",
   "metadata": {},
   "source": [
    "#Aula 17 - Revisão para avaliação final"
   ]
  },
  {
   "cell_type": "code",
   "execution_count": 1,
   "id": "223ff72c-bf4a-45da-8f73-fad824cc00e1",
   "metadata": {},
   "outputs": [],
   "source": [
    "#estrutura de repetição\n",
    "\n",
    "consumo_diario = [50, 45, 55, 60, 48, 52, 47, 49, 53, 51, 50, 46, 54, 61, 49, 53, 48, 50, 52, 47, 56, 50, 55, 60, 48, 52, 47, 49, 53, 51]"
   ]
  },
  {
   "cell_type": "code",
   "execution_count": 2,
   "id": "fab14545-7ee7-425e-898f-f93f227034d8",
   "metadata": {},
   "outputs": [
    {
     "name": "stdout",
     "output_type": "stream",
     "text": [
      "A média do consumo diário é: 51.37\n"
     ]
    }
   ],
   "source": [
    "soma = 0\n",
    "for consumo in consumo_diario:\n",
    "    soma += consumo\n",
    "media = soma / len(consumo_diario)\n",
    "\n",
    "print (f\"A média do consumo diário é: {media:.2f}\")"
   ]
  },
  {
   "cell_type": "code",
   "execution_count": 6,
   "id": "f1d03689-01c7-4c42-8234-426ccdcbe9f2",
   "metadata": {},
   "outputs": [],
   "source": [
    "#Listas, vetores e matrizes\n",
    "\n",
    "\n",
    "produtividade = [ [5, 7, 6, 8, 7],  #funcionário 1\n",
    "                  [6, 5, 6, 7, 6],  #funcionário 2\n",
    "                  [8, 9, 7, 8, 9],  #funcionário 3\n",
    "                  [4, 6, 5, 5, 6],  #funcionário 4\n",
    "                  [7, 8, 7, 8, 7] ] #funcionário 5"
   ]
  },
  {
   "cell_type": "code",
   "execution_count": 7,
   "id": "50a1511c-c552-425c-858f-8d52d11bb216",
   "metadata": {},
   "outputs": [],
   "source": [
    "func = [0, 0, 0, 0, 0]"
   ]
  },
  {
   "cell_type": "code",
   "execution_count": 8,
   "id": "1afbf850-8959-4071-9554-8e228129a895",
   "metadata": {},
   "outputs": [],
   "source": [
    "f = 0\n",
    "for tarefas in produtividade:\n",
    "    soma = 0\n",
    "    for tarefa in tarefas:\n",
    "        soma += tarefa\n",
    "    func[f] = soma\n",
    "    f += 1\n",
    "    "
   ]
  },
  {
   "cell_type": "code",
   "execution_count": 9,
   "id": "824e949f-a8a0-4204-aa99-ef9716bc6f16",
   "metadata": {},
   "outputs": [
    {
     "name": "stdout",
     "output_type": "stream",
     "text": [
      "[33, 30, 41, 26, 37]\n"
     ]
    }
   ],
   "source": [
    "print(func)"
   ]
  },
  {
   "cell_type": "code",
   "execution_count": 11,
   "id": "2097029d-5099-494e-bfa0-82641d413379",
   "metadata": {},
   "outputs": [
    {
     "name": "stdout",
     "output_type": "stream",
     "text": [
      "O 3o. é o mais produtivo com 41 tarefas realizadas\n"
     ]
    }
   ],
   "source": [
    "maior = max(func)\n",
    "funcionario = func.index(maior)+1\n",
    "print(f\"O {funcionario}o. é o mais produtivo com {maior} tarefas realizadas\")"
   ]
  },
  {
   "cell_type": "code",
   "execution_count": 21,
   "id": "f294c838-ca51-4b4b-80ef-81b9d0df3107",
   "metadata": {},
   "outputs": [
    {
     "name": "stdin",
     "output_type": "stream",
     "text": [
      "Digite o nome:  Carlos\n"
     ]
    },
    {
     "name": "stdout",
     "output_type": "stream",
     "text": [
      "Carlos está na lista de participantes.\n"
     ]
    }
   ],
   "source": [
    "participantes_evento = ['Ana', 'Bruno', 'Carlos', 'Diana', 'Eduardo']\n",
    "nome = input(\"Digite o nome: \")\n",
    "\n",
    "def verificar_participante(participantes, nome):\n",
    "    if nome in participantes:\n",
    "        return True\n",
    "    else:\n",
    "        return False\n",
    "\n",
    "if verificar_participante(participantes_evento, nome):\n",
    "    print(f\"{nome} está na lista de participantes.\")\n",
    "else:\n",
    "    print(f\"{nome} não está na lista de participantes.\")"
   ]
  }
 ],
 "metadata": {
  "kernelspec": {
   "display_name": "Python 3 (ipykernel)",
   "language": "python",
   "name": "python3"
  },
  "language_info": {
   "codemirror_mode": {
    "name": "ipython",
    "version": 3
   },
   "file_extension": ".py",
   "mimetype": "text/x-python",
   "name": "python",
   "nbconvert_exporter": "python",
   "pygments_lexer": "ipython3",
   "version": "3.11.7"
  }
 },
 "nbformat": 4,
 "nbformat_minor": 5
}
